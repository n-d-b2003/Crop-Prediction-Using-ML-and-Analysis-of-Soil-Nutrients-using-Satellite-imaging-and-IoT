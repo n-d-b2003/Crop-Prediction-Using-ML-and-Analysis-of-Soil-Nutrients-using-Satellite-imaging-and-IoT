{
  "nbformat": 4,
  "nbformat_minor": 0,
  "metadata": {
    "colab": {
      "provenance": []
    },
    "kernelspec": {
      "name": "python3",
      "display_name": "Python 3"
    },
    "language_info": {
      "name": "python"
    }
  },
  "cells": [
    {
      "cell_type": "code",
      "execution_count": 1,
      "metadata": {
        "id": "CkyJAuIGkMRv"
      },
      "outputs": [],
      "source": [
        "import ee"
      ]
    },
    {
      "cell_type": "code",
      "source": [
        "import geemap"
      ],
      "metadata": {
        "id": "gjIstzmjkSji"
      },
      "execution_count": 2,
      "outputs": []
    },
    {
      "cell_type": "code",
      "source": [
        "ee.Authenticate()"
      ],
      "metadata": {
        "colab": {
          "base_uri": "https://localhost:8080/",
          "height": 304
        },
        "id": "clySiwa-kauy",
        "outputId": "f30ce6fb-5f71-4b2e-eca8-bf3a0fa2063f"
      },
      "execution_count": 3,
      "outputs": [
        {
          "output_type": "display_data",
          "data": {
            "text/plain": [
              "<IPython.core.display.HTML object>"
            ],
            "text/html": [
              "\n",
              "            <style>\n",
              "                .geemap-dark {\n",
              "                    --jp-widgets-color: white;\n",
              "                    --jp-widgets-label-color: white;\n",
              "                    --jp-ui-font-color1: white;\n",
              "                    --jp-layout-color2: #454545;\n",
              "                    background-color: #383838;\n",
              "                }\n",
              "\n",
              "                .geemap-dark .jupyter-button {\n",
              "                    --jp-layout-color3: #383838;\n",
              "                }\n",
              "\n",
              "                .geemap-colab {\n",
              "                    background-color: var(--colab-primary-surface-color, white);\n",
              "                }\n",
              "\n",
              "                .geemap-colab .jupyter-button {\n",
              "                    --jp-layout-color3: var(--colab-primary-surface-color, white);\n",
              "                }\n",
              "            </style>\n",
              "            "
            ]
          },
          "metadata": {}
        },
        {
          "output_type": "error",
          "ename": "MessageError",
          "evalue": "Error: credential propagation was unsuccessful",
          "traceback": [
            "\u001b[0;31m---------------------------------------------------------------------------\u001b[0m",
            "\u001b[0;31mMessageError\u001b[0m                              Traceback (most recent call last)",
            "\u001b[0;32m<ipython-input-3-ba629f2b11f0>\u001b[0m in \u001b[0;36m<cell line: 1>\u001b[0;34m()\u001b[0m\n\u001b[0;32m----> 1\u001b[0;31m \u001b[0mee\u001b[0m\u001b[0;34m.\u001b[0m\u001b[0mAuthenticate\u001b[0m\u001b[0;34m(\u001b[0m\u001b[0;34m)\u001b[0m\u001b[0;34m\u001b[0m\u001b[0;34m\u001b[0m\u001b[0m\n\u001b[0m",
            "\u001b[0;32m/usr/local/lib/python3.10/dist-packages/ee/__init__.py\u001b[0m in \u001b[0;36mAuthenticate\u001b[0;34m(authorization_code, quiet, code_verifier, auth_mode, scopes, force)\u001b[0m\n\u001b[1;32m    122\u001b[0m     \u001b[0;32mTrue\u001b[0m \u001b[0;32mif\u001b[0m \u001b[0mwe\u001b[0m \u001b[0mfound\u001b[0m \u001b[0mvalid\u001b[0m \u001b[0mcredentials\u001b[0m \u001b[0;32mand\u001b[0m \u001b[0mdidn\u001b[0m\u001b[0;31m'\u001b[0m\u001b[0mt\u001b[0m \u001b[0mrun\u001b[0m \u001b[0mthe\u001b[0m \u001b[0mauth\u001b[0m \u001b[0mflow\u001b[0m\u001b[0;34m.\u001b[0m\u001b[0;34m\u001b[0m\u001b[0;34m\u001b[0m\u001b[0m\n\u001b[1;32m    123\u001b[0m   \"\"\"\n\u001b[0;32m--> 124\u001b[0;31m   return oauth.authenticate(authorization_code, quiet, code_verifier, auth_mode,\n\u001b[0m\u001b[1;32m    125\u001b[0m                             scopes, force)\n\u001b[1;32m    126\u001b[0m \u001b[0;34m\u001b[0m\u001b[0m\n",
            "\u001b[0;32m/usr/local/lib/python3.10/dist-packages/ee/oauth.py\u001b[0m in \u001b[0;36mauthenticate\u001b[0;34m(cli_authorization_code, quiet, cli_code_verifier, auth_mode, scopes, force)\u001b[0m\n\u001b[1;32m    497\u001b[0m   \u001b[0;32mif\u001b[0m \u001b[0mauth_mode\u001b[0m \u001b[0;34m==\u001b[0m \u001b[0;34m'colab'\u001b[0m\u001b[0;34m:\u001b[0m\u001b[0;34m\u001b[0m\u001b[0;34m\u001b[0m\u001b[0m\n\u001b[1;32m    498\u001b[0m     \u001b[0;32mfrom\u001b[0m \u001b[0mgoogle\u001b[0m\u001b[0;34m.\u001b[0m\u001b[0mcolab\u001b[0m \u001b[0;32mimport\u001b[0m \u001b[0mauth\u001b[0m  \u001b[0;31m# pylint: disable=g-import-not-at-top # pytype: disable=import-error\u001b[0m\u001b[0;34m\u001b[0m\u001b[0;34m\u001b[0m\u001b[0m\n\u001b[0;32m--> 499\u001b[0;31m     \u001b[0mauth\u001b[0m\u001b[0;34m.\u001b[0m\u001b[0mauthenticate_user\u001b[0m\u001b[0;34m(\u001b[0m\u001b[0;34m)\u001b[0m\u001b[0;34m\u001b[0m\u001b[0;34m\u001b[0m\u001b[0m\n\u001b[0m\u001b[1;32m    500\u001b[0m     \u001b[0;32mreturn\u001b[0m\u001b[0;34m\u001b[0m\u001b[0;34m\u001b[0m\u001b[0m\n\u001b[1;32m    501\u001b[0m \u001b[0;34m\u001b[0m\u001b[0m\n",
            "\u001b[0;32m/usr/local/lib/python3.10/dist-packages/google/colab/auth.py\u001b[0m in \u001b[0;36mauthenticate_user\u001b[0;34m(clear_output, project_id)\u001b[0m\n\u001b[1;32m    279\u001b[0m   \u001b[0;32mif\u001b[0m \u001b[0;32mnot\u001b[0m \u001b[0m_check_adc\u001b[0m\u001b[0;34m(\u001b[0m\u001b[0m_CredentialType\u001b[0m\u001b[0;34m.\u001b[0m\u001b[0mUSER\u001b[0m\u001b[0;34m)\u001b[0m\u001b[0;34m:\u001b[0m\u001b[0;34m\u001b[0m\u001b[0;34m\u001b[0m\u001b[0m\n\u001b[1;32m    280\u001b[0m     \u001b[0;32mif\u001b[0m \u001b[0muse_auth_ephem\u001b[0m\u001b[0;34m:\u001b[0m\u001b[0;34m\u001b[0m\u001b[0;34m\u001b[0m\u001b[0m\n\u001b[0;32m--> 281\u001b[0;31m       _message.blocking_request(\n\u001b[0m\u001b[1;32m    282\u001b[0m           \u001b[0;34m'request_auth'\u001b[0m\u001b[0;34m,\u001b[0m\u001b[0;34m\u001b[0m\u001b[0;34m\u001b[0m\u001b[0m\n\u001b[1;32m    283\u001b[0m           \u001b[0mrequest\u001b[0m\u001b[0;34m=\u001b[0m\u001b[0;34m{\u001b[0m\u001b[0;34m'authType'\u001b[0m\u001b[0;34m:\u001b[0m \u001b[0;34m'auth_user_ephemeral'\u001b[0m\u001b[0;34m}\u001b[0m\u001b[0;34m,\u001b[0m\u001b[0;34m\u001b[0m\u001b[0;34m\u001b[0m\u001b[0m\n",
            "\u001b[0;32m/usr/local/lib/python3.10/dist-packages/google/colab/_message.py\u001b[0m in \u001b[0;36mblocking_request\u001b[0;34m(request_type, request, timeout_sec, parent)\u001b[0m\n\u001b[1;32m    174\u001b[0m       \u001b[0mrequest_type\u001b[0m\u001b[0;34m,\u001b[0m \u001b[0mrequest\u001b[0m\u001b[0;34m,\u001b[0m \u001b[0mparent\u001b[0m\u001b[0;34m=\u001b[0m\u001b[0mparent\u001b[0m\u001b[0;34m,\u001b[0m \u001b[0mexpect_reply\u001b[0m\u001b[0;34m=\u001b[0m\u001b[0;32mTrue\u001b[0m\u001b[0;34m\u001b[0m\u001b[0;34m\u001b[0m\u001b[0m\n\u001b[1;32m    175\u001b[0m   )\n\u001b[0;32m--> 176\u001b[0;31m   \u001b[0;32mreturn\u001b[0m \u001b[0mread_reply_from_input\u001b[0m\u001b[0;34m(\u001b[0m\u001b[0mrequest_id\u001b[0m\u001b[0;34m,\u001b[0m \u001b[0mtimeout_sec\u001b[0m\u001b[0;34m)\u001b[0m\u001b[0;34m\u001b[0m\u001b[0;34m\u001b[0m\u001b[0m\n\u001b[0m",
            "\u001b[0;32m/usr/local/lib/python3.10/dist-packages/google/colab/_message.py\u001b[0m in \u001b[0;36mread_reply_from_input\u001b[0;34m(message_id, timeout_sec)\u001b[0m\n\u001b[1;32m    101\u001b[0m     ):\n\u001b[1;32m    102\u001b[0m       \u001b[0;32mif\u001b[0m \u001b[0;34m'error'\u001b[0m \u001b[0;32min\u001b[0m \u001b[0mreply\u001b[0m\u001b[0;34m:\u001b[0m\u001b[0;34m\u001b[0m\u001b[0;34m\u001b[0m\u001b[0m\n\u001b[0;32m--> 103\u001b[0;31m         \u001b[0;32mraise\u001b[0m \u001b[0mMessageError\u001b[0m\u001b[0;34m(\u001b[0m\u001b[0mreply\u001b[0m\u001b[0;34m[\u001b[0m\u001b[0;34m'error'\u001b[0m\u001b[0;34m]\u001b[0m\u001b[0;34m)\u001b[0m\u001b[0;34m\u001b[0m\u001b[0;34m\u001b[0m\u001b[0m\n\u001b[0m\u001b[1;32m    104\u001b[0m       \u001b[0;32mreturn\u001b[0m \u001b[0mreply\u001b[0m\u001b[0;34m.\u001b[0m\u001b[0mget\u001b[0m\u001b[0;34m(\u001b[0m\u001b[0;34m'data'\u001b[0m\u001b[0;34m,\u001b[0m \u001b[0;32mNone\u001b[0m\u001b[0;34m)\u001b[0m\u001b[0;34m\u001b[0m\u001b[0;34m\u001b[0m\u001b[0m\n\u001b[1;32m    105\u001b[0m \u001b[0;34m\u001b[0m\u001b[0m\n",
            "\u001b[0;31mMessageError\u001b[0m: Error: credential propagation was unsuccessful"
          ]
        }
      ]
    },
    {
      "cell_type": "code",
      "source": [],
      "metadata": {
        "id": "yhAGoP-ZkjFy"
      },
      "execution_count": 3,
      "outputs": []
    },
    {
      "cell_type": "code",
      "source": [],
      "metadata": {
        "id": "xex2pQMZkufl"
      },
      "execution_count": null,
      "outputs": []
    },
    {
      "cell_type": "markdown",
      "source": [
        "**TEMPERATURE**"
      ],
      "metadata": {
        "id": "9h5epDL5l1y-"
      }
    },
    {
      "cell_type": "code",
      "source": [
        "import numpy as np\n",
        "import pandas as pd"
      ],
      "metadata": {
        "colab": {
          "base_uri": "https://localhost:8080/",
          "height": 17
        },
        "id": "bBIrOaHRkui-",
        "outputId": "206545fb-c32c-4cac-9642-ab667d340ef1"
      },
      "execution_count": 4,
      "outputs": [
        {
          "output_type": "display_data",
          "data": {
            "text/plain": [
              "<IPython.core.display.HTML object>"
            ],
            "text/html": [
              "\n",
              "            <style>\n",
              "                .geemap-dark {\n",
              "                    --jp-widgets-color: white;\n",
              "                    --jp-widgets-label-color: white;\n",
              "                    --jp-ui-font-color1: white;\n",
              "                    --jp-layout-color2: #454545;\n",
              "                    background-color: #383838;\n",
              "                }\n",
              "\n",
              "                .geemap-dark .jupyter-button {\n",
              "                    --jp-layout-color3: #383838;\n",
              "                }\n",
              "\n",
              "                .geemap-colab {\n",
              "                    background-color: var(--colab-primary-surface-color, white);\n",
              "                }\n",
              "\n",
              "                .geemap-colab .jupyter-button {\n",
              "                    --jp-layout-color3: var(--colab-primary-surface-color, white);\n",
              "                }\n",
              "            </style>\n",
              "            "
            ]
          },
          "metadata": {}
        }
      ]
    },
    {
      "cell_type": "code",
      "source": [
        "import os\n",
        "for dirname, _, filenames in os.walk('/input'):\n",
        "    for filename in filenames:\n",
        "        print(os.path.join(dirname, filename))"
      ],
      "metadata": {
        "colab": {
          "base_uri": "https://localhost:8080/",
          "height": 17
        },
        "id": "4yiSQX6bk6gg",
        "outputId": "93ff8a76-cf9e-40c2-e278-b5fece68ffe6"
      },
      "execution_count": 5,
      "outputs": [
        {
          "output_type": "display_data",
          "data": {
            "text/plain": [
              "<IPython.core.display.HTML object>"
            ],
            "text/html": [
              "\n",
              "            <style>\n",
              "                .geemap-dark {\n",
              "                    --jp-widgets-color: white;\n",
              "                    --jp-widgets-label-color: white;\n",
              "                    --jp-ui-font-color1: white;\n",
              "                    --jp-layout-color2: #454545;\n",
              "                    background-color: #383838;\n",
              "                }\n",
              "\n",
              "                .geemap-dark .jupyter-button {\n",
              "                    --jp-layout-color3: #383838;\n",
              "                }\n",
              "\n",
              "                .geemap-colab {\n",
              "                    background-color: var(--colab-primary-surface-color, white);\n",
              "                }\n",
              "\n",
              "                .geemap-colab .jupyter-button {\n",
              "                    --jp-layout-color3: var(--colab-primary-surface-color, white);\n",
              "                }\n",
              "            </style>\n",
              "            "
            ]
          },
          "metadata": {}
        }
      ]
    },
    {
      "cell_type": "code",
      "source": [
        "import numpy as np\n",
        "import pandas as pd\n",
        "\n",
        "dataset=pd.read_csv('Temperature_Sentinal_dataset.csv')\n",
        "dataset.head()"
      ],
      "metadata": {
        "colab": {
          "base_uri": "https://localhost:8080/",
          "height": 313
        },
        "id": "LupD36X3lFDJ",
        "outputId": "739efdc5-5855-4d2c-c356-9562a6b384df"
      },
      "execution_count": 8,
      "outputs": [
        {
          "output_type": "display_data",
          "data": {
            "text/plain": [
              "<IPython.core.display.HTML object>"
            ],
            "text/html": [
              "\n",
              "            <style>\n",
              "                .geemap-dark {\n",
              "                    --jp-widgets-color: white;\n",
              "                    --jp-widgets-label-color: white;\n",
              "                    --jp-ui-font-color1: white;\n",
              "                    --jp-layout-color2: #454545;\n",
              "                    background-color: #383838;\n",
              "                }\n",
              "\n",
              "                .geemap-dark .jupyter-button {\n",
              "                    --jp-layout-color3: #383838;\n",
              "                }\n",
              "\n",
              "                .geemap-colab {\n",
              "                    background-color: var(--colab-primary-surface-color, white);\n",
              "                }\n",
              "\n",
              "                .geemap-colab .jupyter-button {\n",
              "                    --jp-layout-color3: var(--colab-primary-surface-color, white);\n",
              "                }\n",
              "            </style>\n",
              "            "
            ]
          },
          "metadata": {}
        },
        {
          "output_type": "execute_result",
          "data": {
            "text/plain": [
              "                                            Filename   Band1_Mean  \\\n",
              "0  Agri_Land_Temperature_619_2021-06-06.tif_water...  1417.045174   \n",
              "1  Agri_Land_Temperature_619_2021-06-07.tif_water...  1417.045174   \n",
              "2  Agri_Land_Temperature_619_2021-06-08.tif_water...  1417.045174   \n",
              "3  Agri_Land_Temperature_619_2021-06-09.tif_water...  1417.045174   \n",
              "4  Agri_Land_Temperature_619_2021-06-10.tif_water...  1417.045174   \n",
              "\n",
              "    Band2_Mean  Band3_Mean  Band4_Mean  Band5_Mean  Band6_Mean  Band7_Mean  \\\n",
              "0  1147.480578  860.596438  565.669875  502.098189  485.323683  490.046855   \n",
              "1  1147.480578  860.596438  565.669875  502.098189  485.323683  490.046855   \n",
              "2  1147.480578  860.596438  565.669875  502.098189  485.323683  490.046855   \n",
              "3  1147.480578  860.596438  565.669875  502.098189  485.323683  490.046855   \n",
              "4  1147.480578  860.596438  565.669875  502.098189  485.323683  490.046855   \n",
              "\n",
              "   Band8_Mean  Band9_Mean  Band10_Mean  Band11_Mean  Band12_Mean  Band13_Mean  \\\n",
              "0  413.121209  463.311085   101.470774     6.698107   325.263124   254.138988   \n",
              "1  413.121209  463.311085   101.470774     6.698107   325.263124   254.138988   \n",
              "2  413.121209  463.311085   101.470774     6.698107   325.263124   254.138988   \n",
              "3  413.121209  463.311085   101.470774     6.698107   325.263124   254.138988   \n",
              "4  413.121209  463.311085   101.470774     6.698107   325.263124   254.138988   \n",
              "\n",
              "   Temperature  \n",
              "0    11.108861  \n",
              "1    10.785201  \n",
              "2    10.675139  \n",
              "3    10.458424  \n",
              "4    10.251806  "
            ],
            "text/html": [
              "\n",
              "  <div id=\"df-df125e87-cf43-4931-a1a1-01d0188036da\" class=\"colab-df-container\">\n",
              "    <div>\n",
              "<style scoped>\n",
              "    .dataframe tbody tr th:only-of-type {\n",
              "        vertical-align: middle;\n",
              "    }\n",
              "\n",
              "    .dataframe tbody tr th {\n",
              "        vertical-align: top;\n",
              "    }\n",
              "\n",
              "    .dataframe thead th {\n",
              "        text-align: right;\n",
              "    }\n",
              "</style>\n",
              "<table border=\"1\" class=\"dataframe\">\n",
              "  <thead>\n",
              "    <tr style=\"text-align: right;\">\n",
              "      <th></th>\n",
              "      <th>Filename</th>\n",
              "      <th>Band1_Mean</th>\n",
              "      <th>Band2_Mean</th>\n",
              "      <th>Band3_Mean</th>\n",
              "      <th>Band4_Mean</th>\n",
              "      <th>Band5_Mean</th>\n",
              "      <th>Band6_Mean</th>\n",
              "      <th>Band7_Mean</th>\n",
              "      <th>Band8_Mean</th>\n",
              "      <th>Band9_Mean</th>\n",
              "      <th>Band10_Mean</th>\n",
              "      <th>Band11_Mean</th>\n",
              "      <th>Band12_Mean</th>\n",
              "      <th>Band13_Mean</th>\n",
              "      <th>Temperature</th>\n",
              "    </tr>\n",
              "  </thead>\n",
              "  <tbody>\n",
              "    <tr>\n",
              "      <th>0</th>\n",
              "      <td>Agri_Land_Temperature_619_2021-06-06.tif_water...</td>\n",
              "      <td>1417.045174</td>\n",
              "      <td>1147.480578</td>\n",
              "      <td>860.596438</td>\n",
              "      <td>565.669875</td>\n",
              "      <td>502.098189</td>\n",
              "      <td>485.323683</td>\n",
              "      <td>490.046855</td>\n",
              "      <td>413.121209</td>\n",
              "      <td>463.311085</td>\n",
              "      <td>101.470774</td>\n",
              "      <td>6.698107</td>\n",
              "      <td>325.263124</td>\n",
              "      <td>254.138988</td>\n",
              "      <td>11.108861</td>\n",
              "    </tr>\n",
              "    <tr>\n",
              "      <th>1</th>\n",
              "      <td>Agri_Land_Temperature_619_2021-06-07.tif_water...</td>\n",
              "      <td>1417.045174</td>\n",
              "      <td>1147.480578</td>\n",
              "      <td>860.596438</td>\n",
              "      <td>565.669875</td>\n",
              "      <td>502.098189</td>\n",
              "      <td>485.323683</td>\n",
              "      <td>490.046855</td>\n",
              "      <td>413.121209</td>\n",
              "      <td>463.311085</td>\n",
              "      <td>101.470774</td>\n",
              "      <td>6.698107</td>\n",
              "      <td>325.263124</td>\n",
              "      <td>254.138988</td>\n",
              "      <td>10.785201</td>\n",
              "    </tr>\n",
              "    <tr>\n",
              "      <th>2</th>\n",
              "      <td>Agri_Land_Temperature_619_2021-06-08.tif_water...</td>\n",
              "      <td>1417.045174</td>\n",
              "      <td>1147.480578</td>\n",
              "      <td>860.596438</td>\n",
              "      <td>565.669875</td>\n",
              "      <td>502.098189</td>\n",
              "      <td>485.323683</td>\n",
              "      <td>490.046855</td>\n",
              "      <td>413.121209</td>\n",
              "      <td>463.311085</td>\n",
              "      <td>101.470774</td>\n",
              "      <td>6.698107</td>\n",
              "      <td>325.263124</td>\n",
              "      <td>254.138988</td>\n",
              "      <td>10.675139</td>\n",
              "    </tr>\n",
              "    <tr>\n",
              "      <th>3</th>\n",
              "      <td>Agri_Land_Temperature_619_2021-06-09.tif_water...</td>\n",
              "      <td>1417.045174</td>\n",
              "      <td>1147.480578</td>\n",
              "      <td>860.596438</td>\n",
              "      <td>565.669875</td>\n",
              "      <td>502.098189</td>\n",
              "      <td>485.323683</td>\n",
              "      <td>490.046855</td>\n",
              "      <td>413.121209</td>\n",
              "      <td>463.311085</td>\n",
              "      <td>101.470774</td>\n",
              "      <td>6.698107</td>\n",
              "      <td>325.263124</td>\n",
              "      <td>254.138988</td>\n",
              "      <td>10.458424</td>\n",
              "    </tr>\n",
              "    <tr>\n",
              "      <th>4</th>\n",
              "      <td>Agri_Land_Temperature_619_2021-06-10.tif_water...</td>\n",
              "      <td>1417.045174</td>\n",
              "      <td>1147.480578</td>\n",
              "      <td>860.596438</td>\n",
              "      <td>565.669875</td>\n",
              "      <td>502.098189</td>\n",
              "      <td>485.323683</td>\n",
              "      <td>490.046855</td>\n",
              "      <td>413.121209</td>\n",
              "      <td>463.311085</td>\n",
              "      <td>101.470774</td>\n",
              "      <td>6.698107</td>\n",
              "      <td>325.263124</td>\n",
              "      <td>254.138988</td>\n",
              "      <td>10.251806</td>\n",
              "    </tr>\n",
              "  </tbody>\n",
              "</table>\n",
              "</div>\n",
              "    <div class=\"colab-df-buttons\">\n",
              "\n",
              "  <div class=\"colab-df-container\">\n",
              "    <button class=\"colab-df-convert\" onclick=\"convertToInteractive('df-df125e87-cf43-4931-a1a1-01d0188036da')\"\n",
              "            title=\"Convert this dataframe to an interactive table.\"\n",
              "            style=\"display:none;\">\n",
              "\n",
              "  <svg xmlns=\"http://www.w3.org/2000/svg\" height=\"24px\" viewBox=\"0 -960 960 960\">\n",
              "    <path d=\"M120-120v-720h720v720H120Zm60-500h600v-160H180v160Zm220 220h160v-160H400v160Zm0 220h160v-160H400v160ZM180-400h160v-160H180v160Zm440 0h160v-160H620v160ZM180-180h160v-160H180v160Zm440 0h160v-160H620v160Z\"/>\n",
              "  </svg>\n",
              "    </button>\n",
              "\n",
              "  <style>\n",
              "    .colab-df-container {\n",
              "      display:flex;\n",
              "      gap: 12px;\n",
              "    }\n",
              "\n",
              "    .colab-df-convert {\n",
              "      background-color: #E8F0FE;\n",
              "      border: none;\n",
              "      border-radius: 50%;\n",
              "      cursor: pointer;\n",
              "      display: none;\n",
              "      fill: #1967D2;\n",
              "      height: 32px;\n",
              "      padding: 0 0 0 0;\n",
              "      width: 32px;\n",
              "    }\n",
              "\n",
              "    .colab-df-convert:hover {\n",
              "      background-color: #E2EBFA;\n",
              "      box-shadow: 0px 1px 2px rgba(60, 64, 67, 0.3), 0px 1px 3px 1px rgba(60, 64, 67, 0.15);\n",
              "      fill: #174EA6;\n",
              "    }\n",
              "\n",
              "    .colab-df-buttons div {\n",
              "      margin-bottom: 4px;\n",
              "    }\n",
              "\n",
              "    [theme=dark] .colab-df-convert {\n",
              "      background-color: #3B4455;\n",
              "      fill: #D2E3FC;\n",
              "    }\n",
              "\n",
              "    [theme=dark] .colab-df-convert:hover {\n",
              "      background-color: #434B5C;\n",
              "      box-shadow: 0px 1px 3px 1px rgba(0, 0, 0, 0.15);\n",
              "      filter: drop-shadow(0px 1px 2px rgba(0, 0, 0, 0.3));\n",
              "      fill: #FFFFFF;\n",
              "    }\n",
              "  </style>\n",
              "\n",
              "    <script>\n",
              "      const buttonEl =\n",
              "        document.querySelector('#df-df125e87-cf43-4931-a1a1-01d0188036da button.colab-df-convert');\n",
              "      buttonEl.style.display =\n",
              "        google.colab.kernel.accessAllowed ? 'block' : 'none';\n",
              "\n",
              "      async function convertToInteractive(key) {\n",
              "        const element = document.querySelector('#df-df125e87-cf43-4931-a1a1-01d0188036da');\n",
              "        const dataTable =\n",
              "          await google.colab.kernel.invokeFunction('convertToInteractive',\n",
              "                                                    [key], {});\n",
              "        if (!dataTable) return;\n",
              "\n",
              "        const docLinkHtml = 'Like what you see? Visit the ' +\n",
              "          '<a target=\"_blank\" href=https://colab.research.google.com/notebooks/data_table.ipynb>data table notebook</a>'\n",
              "          + ' to learn more about interactive tables.';\n",
              "        element.innerHTML = '';\n",
              "        dataTable['output_type'] = 'display_data';\n",
              "        await google.colab.output.renderOutput(dataTable, element);\n",
              "        const docLink = document.createElement('div');\n",
              "        docLink.innerHTML = docLinkHtml;\n",
              "        element.appendChild(docLink);\n",
              "      }\n",
              "    </script>\n",
              "  </div>\n",
              "\n",
              "\n",
              "<div id=\"df-a0fdbee4-bdf1-477a-b1f7-c2f44a46820b\">\n",
              "  <button class=\"colab-df-quickchart\" onclick=\"quickchart('df-a0fdbee4-bdf1-477a-b1f7-c2f44a46820b')\"\n",
              "            title=\"Suggest charts\"\n",
              "            style=\"display:none;\">\n",
              "\n",
              "<svg xmlns=\"http://www.w3.org/2000/svg\" height=\"24px\"viewBox=\"0 0 24 24\"\n",
              "     width=\"24px\">\n",
              "    <g>\n",
              "        <path d=\"M19 3H5c-1.1 0-2 .9-2 2v14c0 1.1.9 2 2 2h14c1.1 0 2-.9 2-2V5c0-1.1-.9-2-2-2zM9 17H7v-7h2v7zm4 0h-2V7h2v10zm4 0h-2v-4h2v4z\"/>\n",
              "    </g>\n",
              "</svg>\n",
              "  </button>\n",
              "\n",
              "<style>\n",
              "  .colab-df-quickchart {\n",
              "      --bg-color: #E8F0FE;\n",
              "      --fill-color: #1967D2;\n",
              "      --hover-bg-color: #E2EBFA;\n",
              "      --hover-fill-color: #174EA6;\n",
              "      --disabled-fill-color: #AAA;\n",
              "      --disabled-bg-color: #DDD;\n",
              "  }\n",
              "\n",
              "  [theme=dark] .colab-df-quickchart {\n",
              "      --bg-color: #3B4455;\n",
              "      --fill-color: #D2E3FC;\n",
              "      --hover-bg-color: #434B5C;\n",
              "      --hover-fill-color: #FFFFFF;\n",
              "      --disabled-bg-color: #3B4455;\n",
              "      --disabled-fill-color: #666;\n",
              "  }\n",
              "\n",
              "  .colab-df-quickchart {\n",
              "    background-color: var(--bg-color);\n",
              "    border: none;\n",
              "    border-radius: 50%;\n",
              "    cursor: pointer;\n",
              "    display: none;\n",
              "    fill: var(--fill-color);\n",
              "    height: 32px;\n",
              "    padding: 0;\n",
              "    width: 32px;\n",
              "  }\n",
              "\n",
              "  .colab-df-quickchart:hover {\n",
              "    background-color: var(--hover-bg-color);\n",
              "    box-shadow: 0 1px 2px rgba(60, 64, 67, 0.3), 0 1px 3px 1px rgba(60, 64, 67, 0.15);\n",
              "    fill: var(--button-hover-fill-color);\n",
              "  }\n",
              "\n",
              "  .colab-df-quickchart-complete:disabled,\n",
              "  .colab-df-quickchart-complete:disabled:hover {\n",
              "    background-color: var(--disabled-bg-color);\n",
              "    fill: var(--disabled-fill-color);\n",
              "    box-shadow: none;\n",
              "  }\n",
              "\n",
              "  .colab-df-spinner {\n",
              "    border: 2px solid var(--fill-color);\n",
              "    border-color: transparent;\n",
              "    border-bottom-color: var(--fill-color);\n",
              "    animation:\n",
              "      spin 1s steps(1) infinite;\n",
              "  }\n",
              "\n",
              "  @keyframes spin {\n",
              "    0% {\n",
              "      border-color: transparent;\n",
              "      border-bottom-color: var(--fill-color);\n",
              "      border-left-color: var(--fill-color);\n",
              "    }\n",
              "    20% {\n",
              "      border-color: transparent;\n",
              "      border-left-color: var(--fill-color);\n",
              "      border-top-color: var(--fill-color);\n",
              "    }\n",
              "    30% {\n",
              "      border-color: transparent;\n",
              "      border-left-color: var(--fill-color);\n",
              "      border-top-color: var(--fill-color);\n",
              "      border-right-color: var(--fill-color);\n",
              "    }\n",
              "    40% {\n",
              "      border-color: transparent;\n",
              "      border-right-color: var(--fill-color);\n",
              "      border-top-color: var(--fill-color);\n",
              "    }\n",
              "    60% {\n",
              "      border-color: transparent;\n",
              "      border-right-color: var(--fill-color);\n",
              "    }\n",
              "    80% {\n",
              "      border-color: transparent;\n",
              "      border-right-color: var(--fill-color);\n",
              "      border-bottom-color: var(--fill-color);\n",
              "    }\n",
              "    90% {\n",
              "      border-color: transparent;\n",
              "      border-bottom-color: var(--fill-color);\n",
              "    }\n",
              "  }\n",
              "</style>\n",
              "\n",
              "  <script>\n",
              "    async function quickchart(key) {\n",
              "      const quickchartButtonEl =\n",
              "        document.querySelector('#' + key + ' button');\n",
              "      quickchartButtonEl.disabled = true;  // To prevent multiple clicks.\n",
              "      quickchartButtonEl.classList.add('colab-df-spinner');\n",
              "      try {\n",
              "        const charts = await google.colab.kernel.invokeFunction(\n",
              "            'suggestCharts', [key], {});\n",
              "      } catch (error) {\n",
              "        console.error('Error during call to suggestCharts:', error);\n",
              "      }\n",
              "      quickchartButtonEl.classList.remove('colab-df-spinner');\n",
              "      quickchartButtonEl.classList.add('colab-df-quickchart-complete');\n",
              "    }\n",
              "    (() => {\n",
              "      let quickchartButtonEl =\n",
              "        document.querySelector('#df-a0fdbee4-bdf1-477a-b1f7-c2f44a46820b button');\n",
              "      quickchartButtonEl.style.display =\n",
              "        google.colab.kernel.accessAllowed ? 'block' : 'none';\n",
              "    })();\n",
              "  </script>\n",
              "</div>\n",
              "\n",
              "    </div>\n",
              "  </div>\n"
            ],
            "application/vnd.google.colaboratory.intrinsic+json": {
              "type": "dataframe",
              "variable_name": "dataset",
              "summary": "{\n  \"name\": \"dataset\",\n  \"rows\": 483,\n  \"fields\": [\n    {\n      \"column\": \"Filename\",\n      \"properties\": {\n        \"dtype\": \"string\",\n        \"num_unique_values\": 483,\n        \"samples\": [\n          \"Agri_Land_Temperature_911_2021-07-29.tif_water_extracted.tif\",\n          \"Agri_Land_Temperature_911_2021-09-29.tif_water_extracted.tif\",\n          \"Agri_Land_Temperature_808_2021-07-25.tif_water_extracted.tif\"\n        ],\n        \"semantic_type\": \"\",\n        \"description\": \"\"\n      }\n    },\n    {\n      \"column\": \"Band1_Mean\",\n      \"properties\": {\n        \"dtype\": \"number\",\n        \"std\": 219.87821462659284,\n        \"min\": 1079.1123576761192,\n        \"max\": 2142.7869632132565,\n        \"num_unique_values\": 119,\n        \"samples\": [\n          1226.4359848693296,\n          1526.2224958918082,\n          1188.0874543023012\n        ],\n        \"semantic_type\": \"\",\n        \"description\": \"\"\n      }\n    },\n    {\n      \"column\": \"Band2_Mean\",\n      \"properties\": {\n        \"dtype\": \"number\",\n        \"std\": 222.9162802865916,\n        \"min\": 798.2896700526497,\n        \"max\": 1783.8182406239514,\n        \"num_unique_values\": 119,\n        \"samples\": [\n          1017.2913603976846,\n          1257.6195379936914,\n          871.3232789079508\n        ],\n        \"semantic_type\": \"\",\n        \"description\": \"\"\n      }\n    },\n    {\n      \"column\": \"Band3_Mean\",\n      \"properties\": {\n        \"dtype\": \"number\",\n        \"std\": 227.45799337912334,\n        \"min\": 547.6980076995372,\n        \"max\": 1465.7230117976185,\n        \"num_unique_values\": 119,\n        \"samples\": [\n          758.0020819739576,\n          998.31430406286,\n          611.4239374020075\n        ],\n        \"semantic_type\": \"\",\n        \"description\": \"\"\n      }\n    },\n    {\n      \"column\": \"Band4_Mean\",\n      \"properties\": {\n        \"dtype\": \"number\",\n        \"std\": 228.4407593271513,\n        \"min\": 281.95115455735566,\n        \"max\": 1163.7362707746672,\n        \"num_unique_values\": 119,\n        \"samples\": [\n          452.7049656847716,\n          672.8226998847817,\n          366.1929810493576\n        ],\n        \"semantic_type\": \"\",\n        \"description\": \"\"\n      }\n    },\n    {\n      \"column\": \"Band5_Mean\",\n      \"properties\": {\n        \"dtype\": \"number\",\n        \"std\": 218.85684942135686,\n        \"min\": 229.3199472014803,\n        \"max\": 1075.3476045865311,\n        \"num_unique_values\": 119,\n        \"samples\": [\n          397.89270627789176,\n          596.5377859207072,\n          316.1449161105326\n        ],\n        \"semantic_type\": \"\",\n        \"description\": \"\"\n      }\n    },\n    {\n      \"column\": \"Band6_Mean\",\n      \"properties\": {\n        \"dtype\": \"number\",\n        \"std\": 230.90134390320821,\n        \"min\": 187.69079983007373,\n        \"max\": 1081.8234895377914,\n        \"num_unique_values\": 119,\n        \"samples\": [\n          355.6864925879631,\n          545.537211718263,\n          287.4812029843301\n        ],\n        \"semantic_type\": \"\",\n        \"description\": \"\"\n      }\n    },\n    {\n      \"column\": \"Band7_Mean\",\n      \"properties\": {\n        \"dtype\": \"number\",\n        \"std\": 248.19668341514148,\n        \"min\": 168.18940153007955,\n        \"max\": 1171.1960782057772,\n        \"num_unique_values\": 119,\n        \"samples\": [\n          334.3399441575015,\n          552.522509113575,\n          280.1625976455204\n        ],\n        \"semantic_type\": \"\",\n        \"description\": \"\"\n      }\n    },\n    {\n      \"column\": \"Band8_Mean\",\n      \"properties\": {\n        \"dtype\": \"number\",\n        \"std\": 213.3625133431461,\n        \"min\": 137.65645354460997,\n        \"max\": 943.9736076595028,\n        \"num_unique_values\": 119,\n        \"samples\": [\n          331.46511416135365,\n          493.025476455811,\n          228.9663158373584\n        ],\n        \"semantic_type\": \"\",\n        \"description\": \"\"\n      }\n    },\n    {\n      \"column\": \"Band9_Mean\",\n      \"properties\": {\n        \"dtype\": \"number\",\n        \"std\": 256.2696810528692,\n        \"min\": 126.83190830174053,\n        \"max\": 1194.6572210844697,\n        \"num_unique_values\": 119,\n        \"samples\": [\n          291.64403224242614,\n          511.5906540996921,\n          238.37964431837327\n        ],\n        \"semantic_type\": \"\",\n        \"description\": \"\"\n      }\n    },\n    {\n      \"column\": \"Band10_Mean\",\n      \"properties\": {\n        \"dtype\": \"number\",\n        \"std\": 67.47860109636231,\n        \"min\": 58.01934214291332,\n        \"max\": 370.46961323960846,\n        \"num_unique_values\": 119,\n        \"samples\": [\n          137.70737652937956,\n          169.9866837920027,\n          89.21013751619635\n        ],\n        \"semantic_type\": \"\",\n        \"description\": \"\"\n      }\n    },\n    {\n      \"column\": \"Band11_Mean\",\n      \"properties\": {\n        \"dtype\": \"number\",\n        \"std\": 5.5270666418232555,\n        \"min\": 4.578586933259959,\n        \"max\": 48.02897496501587,\n        \"num_unique_values\": 119,\n        \"samples\": [\n          9.05011346692557,\n          9.479840583268798,\n          8.563307528405531\n        ],\n        \"semantic_type\": \"\",\n        \"description\": \"\"\n      }\n    },\n    {\n      \"column\": \"Band12_Mean\",\n      \"properties\": {\n        \"dtype\": \"number\",\n        \"std\": 223.89721054254622,\n        \"min\": 28.937314574243835,\n        \"max\": 1028.0388331518045,\n        \"num_unique_values\": 119,\n        \"samples\": [\n          193.1336446467457,\n          415.7203029673423,\n          118.71812051817518\n        ],\n        \"semantic_type\": \"\",\n        \"description\": \"\"\n      }\n    },\n    {\n      \"column\": \"Band13_Mean\",\n      \"properties\": {\n        \"dtype\": \"number\",\n        \"std\": 185.63228658712512,\n        \"min\": 17.708344526692485,\n        \"max\": 824.9901236059337,\n        \"num_unique_values\": 119,\n        \"samples\": [\n          149.26502847155072,\n          359.6551158793419,\n          91.41900361186748\n        ],\n        \"semantic_type\": \"\",\n        \"description\": \"\"\n      }\n    },\n    {\n      \"column\": \"Temperature\",\n      \"properties\": {\n        \"dtype\": \"number\",\n        \"std\": 3.5798413043296944,\n        \"min\": 8.231784722222223,\n        \"max\": 23.567125,\n        \"num_unique_values\": 483,\n        \"samples\": [\n          14.03727083333333,\n          20.08897222222222,\n          11.41479166666667\n        ],\n        \"semantic_type\": \"\",\n        \"description\": \"\"\n      }\n    }\n  ]\n}"
            }
          },
          "metadata": {},
          "execution_count": 8
        }
      ]
    },
    {
      "cell_type": "markdown",
      "source": [
        "Data PreProcessing"
      ],
      "metadata": {
        "id": "dU4u-CjaliPN"
      }
    },
    {
      "cell_type": "code",
      "source": [
        "dataset.dropna(inplace=True)\n",
        "dataset.count()"
      ],
      "metadata": {
        "colab": {
          "base_uri": "https://localhost:8080/",
          "height": 295
        },
        "id": "sOWXPRkulV-J",
        "outputId": "38c8d41d-6919-4e46-9d44-a1ba36e181bb"
      },
      "execution_count": 9,
      "outputs": [
        {
          "output_type": "display_data",
          "data": {
            "text/plain": [
              "<IPython.core.display.HTML object>"
            ],
            "text/html": [
              "\n",
              "            <style>\n",
              "                .geemap-dark {\n",
              "                    --jp-widgets-color: white;\n",
              "                    --jp-widgets-label-color: white;\n",
              "                    --jp-ui-font-color1: white;\n",
              "                    --jp-layout-color2: #454545;\n",
              "                    background-color: #383838;\n",
              "                }\n",
              "\n",
              "                .geemap-dark .jupyter-button {\n",
              "                    --jp-layout-color3: #383838;\n",
              "                }\n",
              "\n",
              "                .geemap-colab {\n",
              "                    background-color: var(--colab-primary-surface-color, white);\n",
              "                }\n",
              "\n",
              "                .geemap-colab .jupyter-button {\n",
              "                    --jp-layout-color3: var(--colab-primary-surface-color, white);\n",
              "                }\n",
              "            </style>\n",
              "            "
            ]
          },
          "metadata": {}
        },
        {
          "output_type": "execute_result",
          "data": {
            "text/plain": [
              "Filename       483\n",
              "Band1_Mean     483\n",
              "Band2_Mean     483\n",
              "Band3_Mean     483\n",
              "Band4_Mean     483\n",
              "Band5_Mean     483\n",
              "Band6_Mean     483\n",
              "Band7_Mean     483\n",
              "Band8_Mean     483\n",
              "Band9_Mean     483\n",
              "Band10_Mean    483\n",
              "Band11_Mean    483\n",
              "Band12_Mean    483\n",
              "Band13_Mean    483\n",
              "Temperature    483\n",
              "dtype: int64"
            ]
          },
          "metadata": {},
          "execution_count": 9
        }
      ]
    },
    {
      "cell_type": "markdown",
      "source": [
        "**Random Forest**"
      ],
      "metadata": {
        "id": "y9Y6A49hngrg"
      }
    },
    {
      "cell_type": "code",
      "source": [
        "from sklearn.model_selection import GridSearchCV\n",
        "from sklearn.ensemble import RandomForestRegressor\n",
        "from sklearn.metrics import mean_squared_error, r2_score\n",
        "from sklearn.model_selection import train_test_split\n",
        "import pandas as pd\n",
        "\n",
        "features = ['Band2_Mean','Band3_Mean','Band4_Mean','Band5_Mean','Band6_Mean','Band7_Mean','Band8_Mean','Band9_Mean']\n",
        "label = ['Temperature']\n",
        "\n",
        "X = dataset.loc[:, features].values\n",
        "y = dataset.loc[:, label].values\n",
        "\n",
        "#Test-train split\n",
        "X_train, X_test, y_train, y_test = train_test_split(X, y, test_size=0.2, random_state=42)\n",
        "\n",
        "#Model Development\n",
        "param_grid = {\n",
        "    'n_estimators': [50, 100, 200],\n",
        "    'max_depth': [None, 10, 20],\n",
        "    'min_samples_split': [2, 5, 10],\n",
        "    'min_samples_leaf': [1, 2, 4]\n",
        "}\n",
        "\n",
        "grid_search = GridSearchCV(RandomForestRegressor(random_state=42), param_grid, cv=5, scoring='neg_mean_squared_error')\n",
        "\n",
        "grid_search.fit(X_train, y_train)\n",
        "\n",
        "best_params = grid_search.best_params_\n",
        "\n",
        "best_rf_model = grid_search.best_estimator_\n",
        "y_pred_tuned = best_rf_model.predict(X_test)\n",
        "\n",
        "r2_tuned = r2_score(y_test, y_pred_tuned)\n",
        "rmse_rf=np.sqrt(mean_squared_error(y_test, y_pred_tuned))\n",
        "\n",
        "#Model Evaluation\n",
        "print(f'R2 Score : {r2_tuned}')\n",
        "print(f'RMSE: {rmse_rf}')\n",
        "print(f'Best Hyperparameters: {best_params}')\n",
        "\n",
        "rf_model_filename = 'temperature-rf.joblib'\n",
        "dump(best_rf_model, rf_model_filename)\n",
        "\n",
        "print(f\"Best RandomForestRegressor model saved to {rf_model_filename}\")"
      ],
      "metadata": {
        "colab": {
          "base_uri": "https://localhost:8080/",
          "height": 106
        },
        "id": "tUBoAZYwlliB",
        "outputId": "332b01d2-74ad-4593-8ae9-6389a83158a7"
      },
      "execution_count": 12,
      "outputs": [
        {
          "output_type": "display_data",
          "data": {
            "text/plain": [
              "<IPython.core.display.HTML object>"
            ],
            "text/html": [
              "\n",
              "            <style>\n",
              "                .geemap-dark {\n",
              "                    --jp-widgets-color: white;\n",
              "                    --jp-widgets-label-color: white;\n",
              "                    --jp-ui-font-color1: white;\n",
              "                    --jp-layout-color2: #454545;\n",
              "                    background-color: #383838;\n",
              "                }\n",
              "\n",
              "                .geemap-dark .jupyter-button {\n",
              "                    --jp-layout-color3: #383838;\n",
              "                }\n",
              "\n",
              "                .geemap-colab {\n",
              "                    background-color: var(--colab-primary-surface-color, white);\n",
              "                }\n",
              "\n",
              "                .geemap-colab .jupyter-button {\n",
              "                    --jp-layout-color3: var(--colab-primary-surface-color, white);\n",
              "                }\n",
              "            </style>\n",
              "            "
            ]
          },
          "metadata": {}
        },
        {
          "output_type": "stream",
          "name": "stdout",
          "text": [
            "R2 Score : 0.8132335762450562\n",
            "RMSE: 1.48397160959567\n",
            "Best Hyperparameters: {'max_depth': None, 'min_samples_leaf': 1, 'min_samples_split': 2, 'n_estimators': 200}\n",
            "Best RandomForestRegressor model saved to temperature-rf.joblib\n"
          ]
        }
      ]
    },
    {
      "cell_type": "markdown",
      "source": [
        " **TOTAL NITROGEN**"
      ],
      "metadata": {
        "id": "lji5rtZ8l8Wd"
      }
    },
    {
      "cell_type": "code",
      "source": [
        "import numpy as np\n",
        "import pandas as pd\n",
        "from sklearn import metrics\n",
        "from math import sqrt\n",
        "from sklearn.svm import SVR\n",
        "from sklearn.metrics import mean_squared_error, r2_score\n",
        "from sklearn.model_selection import train_test_split, cross_val_score\n",
        "from sklearn.model_selection import KFold,RandomizedSearchCV\n",
        "from sklearn.preprocessing import StandardScaler\n",
        "import statsmodels.api as sm\n",
        "import warnings\n",
        "from joblib import dump\n",
        "warnings.filterwarnings(\"ignore\")"
      ],
      "metadata": {
        "colab": {
          "base_uri": "https://localhost:8080/",
          "height": 17
        },
        "id": "vwPMPq8dlnrK",
        "outputId": "cd9bbc15-05f6-4230-db69-864860cb9ba8"
      },
      "execution_count": 34,
      "outputs": [
        {
          "output_type": "display_data",
          "data": {
            "text/plain": [
              "<IPython.core.display.HTML object>"
            ],
            "text/html": [
              "\n",
              "            <style>\n",
              "                .geemap-dark {\n",
              "                    --jp-widgets-color: white;\n",
              "                    --jp-widgets-label-color: white;\n",
              "                    --jp-ui-font-color1: white;\n",
              "                    --jp-layout-color2: #454545;\n",
              "                    background-color: #383838;\n",
              "                }\n",
              "\n",
              "                .geemap-dark .jupyter-button {\n",
              "                    --jp-layout-color3: #383838;\n",
              "                }\n",
              "\n",
              "                .geemap-colab {\n",
              "                    background-color: var(--colab-primary-surface-color, white);\n",
              "                }\n",
              "\n",
              "                .geemap-colab .jupyter-button {\n",
              "                    --jp-layout-color3: var(--colab-primary-surface-color, white);\n",
              "                }\n",
              "            </style>\n",
              "            "
            ]
          },
          "metadata": {}
        }
      ]
    },
    {
      "cell_type": "code",
      "source": [
        "dataset=pd.read_csv('Nitrogen_Sentinal_dataset.csv')\n",
        "dataset.head()"
      ],
      "metadata": {
        "colab": {
          "base_uri": "https://localhost:8080/",
          "height": 417
        },
        "id": "JlAT7R08mG9t",
        "outputId": "6cdc1b12-cf26-41d3-fe17-e9829f8980d6"
      },
      "execution_count": 17,
      "outputs": [
        {
          "output_type": "display_data",
          "data": {
            "text/plain": [
              "<IPython.core.display.HTML object>"
            ],
            "text/html": [
              "\n",
              "            <style>\n",
              "                .geemap-dark {\n",
              "                    --jp-widgets-color: white;\n",
              "                    --jp-widgets-label-color: white;\n",
              "                    --jp-ui-font-color1: white;\n",
              "                    --jp-layout-color2: #454545;\n",
              "                    background-color: #383838;\n",
              "                }\n",
              "\n",
              "                .geemap-dark .jupyter-button {\n",
              "                    --jp-layout-color3: #383838;\n",
              "                }\n",
              "\n",
              "                .geemap-colab {\n",
              "                    background-color: var(--colab-primary-surface-color, white);\n",
              "                }\n",
              "\n",
              "                .geemap-colab .jupyter-button {\n",
              "                    --jp-layout-color3: var(--colab-primary-surface-color, white);\n",
              "                }\n",
              "            </style>\n",
              "            "
            ]
          },
          "metadata": {}
        },
        {
          "output_type": "execute_result",
          "data": {
            "text/plain": [
              "  STATION        Date  Band1_Mean  Band2_Mean  Band3_Mean  Band4_Mean  \\\n",
              "0      C1  29-08-2017      1232.0       913.0       688.0       394.0   \n",
              "1      C1  21-09-2017      1179.0       857.0       622.0       339.0   \n",
              "2      C1  14-05-2018      1186.0       888.0       674.0       427.5   \n",
              "3      C1  15-06-2018      1257.0       984.5       794.0       595.0   \n",
              "4      C1  17-09-2018      1233.0       910.0       642.0       370.0   \n",
              "\n",
              "   Band5_Mean  Band6_Mean  Band7_Mean  Band8_Mean  Band9_Mean  Band10_Mean  \\\n",
              "0       369.0       393.0       395.0       333.0       339.0         90.0   \n",
              "1       292.0       268.0       265.0       210.0       205.5         57.0   \n",
              "2       383.5       347.0       339.0       283.5       295.0        126.5   \n",
              "3       555.0       532.0       534.5       466.0       500.0        204.5   \n",
              "4       326.0       308.0       293.0       242.0       235.0         88.0   \n",
              "\n",
              "   Band11_Mean  Band12_Mean  Band13_Mean  TEST VALUE  \n",
              "0         13.0         74.0         36.0       0.424  \n",
              "1          8.0         50.0         24.0       0.473  \n",
              "2          9.5        160.0        128.0       0.417  \n",
              "3          9.0        365.5        311.5       0.446  \n",
              "4          8.0         62.0         39.0       0.374  "
            ],
            "text/html": [
              "\n",
              "  <div id=\"df-b8bc62e5-2a2b-4bc3-a741-42ae29cac4ef\" class=\"colab-df-container\">\n",
              "    <div>\n",
              "<style scoped>\n",
              "    .dataframe tbody tr th:only-of-type {\n",
              "        vertical-align: middle;\n",
              "    }\n",
              "\n",
              "    .dataframe tbody tr th {\n",
              "        vertical-align: top;\n",
              "    }\n",
              "\n",
              "    .dataframe thead th {\n",
              "        text-align: right;\n",
              "    }\n",
              "</style>\n",
              "<table border=\"1\" class=\"dataframe\">\n",
              "  <thead>\n",
              "    <tr style=\"text-align: right;\">\n",
              "      <th></th>\n",
              "      <th>STATION</th>\n",
              "      <th>Date</th>\n",
              "      <th>Band1_Mean</th>\n",
              "      <th>Band2_Mean</th>\n",
              "      <th>Band3_Mean</th>\n",
              "      <th>Band4_Mean</th>\n",
              "      <th>Band5_Mean</th>\n",
              "      <th>Band6_Mean</th>\n",
              "      <th>Band7_Mean</th>\n",
              "      <th>Band8_Mean</th>\n",
              "      <th>Band9_Mean</th>\n",
              "      <th>Band10_Mean</th>\n",
              "      <th>Band11_Mean</th>\n",
              "      <th>Band12_Mean</th>\n",
              "      <th>Band13_Mean</th>\n",
              "      <th>TEST VALUE</th>\n",
              "    </tr>\n",
              "  </thead>\n",
              "  <tbody>\n",
              "    <tr>\n",
              "      <th>0</th>\n",
              "      <td>C1</td>\n",
              "      <td>29-08-2017</td>\n",
              "      <td>1232.0</td>\n",
              "      <td>913.0</td>\n",
              "      <td>688.0</td>\n",
              "      <td>394.0</td>\n",
              "      <td>369.0</td>\n",
              "      <td>393.0</td>\n",
              "      <td>395.0</td>\n",
              "      <td>333.0</td>\n",
              "      <td>339.0</td>\n",
              "      <td>90.0</td>\n",
              "      <td>13.0</td>\n",
              "      <td>74.0</td>\n",
              "      <td>36.0</td>\n",
              "      <td>0.424</td>\n",
              "    </tr>\n",
              "    <tr>\n",
              "      <th>1</th>\n",
              "      <td>C1</td>\n",
              "      <td>21-09-2017</td>\n",
              "      <td>1179.0</td>\n",
              "      <td>857.0</td>\n",
              "      <td>622.0</td>\n",
              "      <td>339.0</td>\n",
              "      <td>292.0</td>\n",
              "      <td>268.0</td>\n",
              "      <td>265.0</td>\n",
              "      <td>210.0</td>\n",
              "      <td>205.5</td>\n",
              "      <td>57.0</td>\n",
              "      <td>8.0</td>\n",
              "      <td>50.0</td>\n",
              "      <td>24.0</td>\n",
              "      <td>0.473</td>\n",
              "    </tr>\n",
              "    <tr>\n",
              "      <th>2</th>\n",
              "      <td>C1</td>\n",
              "      <td>14-05-2018</td>\n",
              "      <td>1186.0</td>\n",
              "      <td>888.0</td>\n",
              "      <td>674.0</td>\n",
              "      <td>427.5</td>\n",
              "      <td>383.5</td>\n",
              "      <td>347.0</td>\n",
              "      <td>339.0</td>\n",
              "      <td>283.5</td>\n",
              "      <td>295.0</td>\n",
              "      <td>126.5</td>\n",
              "      <td>9.5</td>\n",
              "      <td>160.0</td>\n",
              "      <td>128.0</td>\n",
              "      <td>0.417</td>\n",
              "    </tr>\n",
              "    <tr>\n",
              "      <th>3</th>\n",
              "      <td>C1</td>\n",
              "      <td>15-06-2018</td>\n",
              "      <td>1257.0</td>\n",
              "      <td>984.5</td>\n",
              "      <td>794.0</td>\n",
              "      <td>595.0</td>\n",
              "      <td>555.0</td>\n",
              "      <td>532.0</td>\n",
              "      <td>534.5</td>\n",
              "      <td>466.0</td>\n",
              "      <td>500.0</td>\n",
              "      <td>204.5</td>\n",
              "      <td>9.0</td>\n",
              "      <td>365.5</td>\n",
              "      <td>311.5</td>\n",
              "      <td>0.446</td>\n",
              "    </tr>\n",
              "    <tr>\n",
              "      <th>4</th>\n",
              "      <td>C1</td>\n",
              "      <td>17-09-2018</td>\n",
              "      <td>1233.0</td>\n",
              "      <td>910.0</td>\n",
              "      <td>642.0</td>\n",
              "      <td>370.0</td>\n",
              "      <td>326.0</td>\n",
              "      <td>308.0</td>\n",
              "      <td>293.0</td>\n",
              "      <td>242.0</td>\n",
              "      <td>235.0</td>\n",
              "      <td>88.0</td>\n",
              "      <td>8.0</td>\n",
              "      <td>62.0</td>\n",
              "      <td>39.0</td>\n",
              "      <td>0.374</td>\n",
              "    </tr>\n",
              "  </tbody>\n",
              "</table>\n",
              "</div>\n",
              "    <div class=\"colab-df-buttons\">\n",
              "\n",
              "  <div class=\"colab-df-container\">\n",
              "    <button class=\"colab-df-convert\" onclick=\"convertToInteractive('df-b8bc62e5-2a2b-4bc3-a741-42ae29cac4ef')\"\n",
              "            title=\"Convert this dataframe to an interactive table.\"\n",
              "            style=\"display:none;\">\n",
              "\n",
              "  <svg xmlns=\"http://www.w3.org/2000/svg\" height=\"24px\" viewBox=\"0 -960 960 960\">\n",
              "    <path d=\"M120-120v-720h720v720H120Zm60-500h600v-160H180v160Zm220 220h160v-160H400v160Zm0 220h160v-160H400v160ZM180-400h160v-160H180v160Zm440 0h160v-160H620v160ZM180-180h160v-160H180v160Zm440 0h160v-160H620v160Z\"/>\n",
              "  </svg>\n",
              "    </button>\n",
              "\n",
              "  <style>\n",
              "    .colab-df-container {\n",
              "      display:flex;\n",
              "      gap: 12px;\n",
              "    }\n",
              "\n",
              "    .colab-df-convert {\n",
              "      background-color: #E8F0FE;\n",
              "      border: none;\n",
              "      border-radius: 50%;\n",
              "      cursor: pointer;\n",
              "      display: none;\n",
              "      fill: #1967D2;\n",
              "      height: 32px;\n",
              "      padding: 0 0 0 0;\n",
              "      width: 32px;\n",
              "    }\n",
              "\n",
              "    .colab-df-convert:hover {\n",
              "      background-color: #E2EBFA;\n",
              "      box-shadow: 0px 1px 2px rgba(60, 64, 67, 0.3), 0px 1px 3px 1px rgba(60, 64, 67, 0.15);\n",
              "      fill: #174EA6;\n",
              "    }\n",
              "\n",
              "    .colab-df-buttons div {\n",
              "      margin-bottom: 4px;\n",
              "    }\n",
              "\n",
              "    [theme=dark] .colab-df-convert {\n",
              "      background-color: #3B4455;\n",
              "      fill: #D2E3FC;\n",
              "    }\n",
              "\n",
              "    [theme=dark] .colab-df-convert:hover {\n",
              "      background-color: #434B5C;\n",
              "      box-shadow: 0px 1px 3px 1px rgba(0, 0, 0, 0.15);\n",
              "      filter: drop-shadow(0px 1px 2px rgba(0, 0, 0, 0.3));\n",
              "      fill: #FFFFFF;\n",
              "    }\n",
              "  </style>\n",
              "\n",
              "    <script>\n",
              "      const buttonEl =\n",
              "        document.querySelector('#df-b8bc62e5-2a2b-4bc3-a741-42ae29cac4ef button.colab-df-convert');\n",
              "      buttonEl.style.display =\n",
              "        google.colab.kernel.accessAllowed ? 'block' : 'none';\n",
              "\n",
              "      async function convertToInteractive(key) {\n",
              "        const element = document.querySelector('#df-b8bc62e5-2a2b-4bc3-a741-42ae29cac4ef');\n",
              "        const dataTable =\n",
              "          await google.colab.kernel.invokeFunction('convertToInteractive',\n",
              "                                                    [key], {});\n",
              "        if (!dataTable) return;\n",
              "\n",
              "        const docLinkHtml = 'Like what you see? Visit the ' +\n",
              "          '<a target=\"_blank\" href=https://colab.research.google.com/notebooks/data_table.ipynb>data table notebook</a>'\n",
              "          + ' to learn more about interactive tables.';\n",
              "        element.innerHTML = '';\n",
              "        dataTable['output_type'] = 'display_data';\n",
              "        await google.colab.output.renderOutput(dataTable, element);\n",
              "        const docLink = document.createElement('div');\n",
              "        docLink.innerHTML = docLinkHtml;\n",
              "        element.appendChild(docLink);\n",
              "      }\n",
              "    </script>\n",
              "  </div>\n",
              "\n",
              "\n",
              "<div id=\"df-283d4b00-cd13-4850-8e2f-53671c3ca569\">\n",
              "  <button class=\"colab-df-quickchart\" onclick=\"quickchart('df-283d4b00-cd13-4850-8e2f-53671c3ca569')\"\n",
              "            title=\"Suggest charts\"\n",
              "            style=\"display:none;\">\n",
              "\n",
              "<svg xmlns=\"http://www.w3.org/2000/svg\" height=\"24px\"viewBox=\"0 0 24 24\"\n",
              "     width=\"24px\">\n",
              "    <g>\n",
              "        <path d=\"M19 3H5c-1.1 0-2 .9-2 2v14c0 1.1.9 2 2 2h14c1.1 0 2-.9 2-2V5c0-1.1-.9-2-2-2zM9 17H7v-7h2v7zm4 0h-2V7h2v10zm4 0h-2v-4h2v4z\"/>\n",
              "    </g>\n",
              "</svg>\n",
              "  </button>\n",
              "\n",
              "<style>\n",
              "  .colab-df-quickchart {\n",
              "      --bg-color: #E8F0FE;\n",
              "      --fill-color: #1967D2;\n",
              "      --hover-bg-color: #E2EBFA;\n",
              "      --hover-fill-color: #174EA6;\n",
              "      --disabled-fill-color: #AAA;\n",
              "      --disabled-bg-color: #DDD;\n",
              "  }\n",
              "\n",
              "  [theme=dark] .colab-df-quickchart {\n",
              "      --bg-color: #3B4455;\n",
              "      --fill-color: #D2E3FC;\n",
              "      --hover-bg-color: #434B5C;\n",
              "      --hover-fill-color: #FFFFFF;\n",
              "      --disabled-bg-color: #3B4455;\n",
              "      --disabled-fill-color: #666;\n",
              "  }\n",
              "\n",
              "  .colab-df-quickchart {\n",
              "    background-color: var(--bg-color);\n",
              "    border: none;\n",
              "    border-radius: 50%;\n",
              "    cursor: pointer;\n",
              "    display: none;\n",
              "    fill: var(--fill-color);\n",
              "    height: 32px;\n",
              "    padding: 0;\n",
              "    width: 32px;\n",
              "  }\n",
              "\n",
              "  .colab-df-quickchart:hover {\n",
              "    background-color: var(--hover-bg-color);\n",
              "    box-shadow: 0 1px 2px rgba(60, 64, 67, 0.3), 0 1px 3px 1px rgba(60, 64, 67, 0.15);\n",
              "    fill: var(--button-hover-fill-color);\n",
              "  }\n",
              "\n",
              "  .colab-df-quickchart-complete:disabled,\n",
              "  .colab-df-quickchart-complete:disabled:hover {\n",
              "    background-color: var(--disabled-bg-color);\n",
              "    fill: var(--disabled-fill-color);\n",
              "    box-shadow: none;\n",
              "  }\n",
              "\n",
              "  .colab-df-spinner {\n",
              "    border: 2px solid var(--fill-color);\n",
              "    border-color: transparent;\n",
              "    border-bottom-color: var(--fill-color);\n",
              "    animation:\n",
              "      spin 1s steps(1) infinite;\n",
              "  }\n",
              "\n",
              "  @keyframes spin {\n",
              "    0% {\n",
              "      border-color: transparent;\n",
              "      border-bottom-color: var(--fill-color);\n",
              "      border-left-color: var(--fill-color);\n",
              "    }\n",
              "    20% {\n",
              "      border-color: transparent;\n",
              "      border-left-color: var(--fill-color);\n",
              "      border-top-color: var(--fill-color);\n",
              "    }\n",
              "    30% {\n",
              "      border-color: transparent;\n",
              "      border-left-color: var(--fill-color);\n",
              "      border-top-color: var(--fill-color);\n",
              "      border-right-color: var(--fill-color);\n",
              "    }\n",
              "    40% {\n",
              "      border-color: transparent;\n",
              "      border-right-color: var(--fill-color);\n",
              "      border-top-color: var(--fill-color);\n",
              "    }\n",
              "    60% {\n",
              "      border-color: transparent;\n",
              "      border-right-color: var(--fill-color);\n",
              "    }\n",
              "    80% {\n",
              "      border-color: transparent;\n",
              "      border-right-color: var(--fill-color);\n",
              "      border-bottom-color: var(--fill-color);\n",
              "    }\n",
              "    90% {\n",
              "      border-color: transparent;\n",
              "      border-bottom-color: var(--fill-color);\n",
              "    }\n",
              "  }\n",
              "</style>\n",
              "\n",
              "  <script>\n",
              "    async function quickchart(key) {\n",
              "      const quickchartButtonEl =\n",
              "        document.querySelector('#' + key + ' button');\n",
              "      quickchartButtonEl.disabled = true;  // To prevent multiple clicks.\n",
              "      quickchartButtonEl.classList.add('colab-df-spinner');\n",
              "      try {\n",
              "        const charts = await google.colab.kernel.invokeFunction(\n",
              "            'suggestCharts', [key], {});\n",
              "      } catch (error) {\n",
              "        console.error('Error during call to suggestCharts:', error);\n",
              "      }\n",
              "      quickchartButtonEl.classList.remove('colab-df-spinner');\n",
              "      quickchartButtonEl.classList.add('colab-df-quickchart-complete');\n",
              "    }\n",
              "    (() => {\n",
              "      let quickchartButtonEl =\n",
              "        document.querySelector('#df-283d4b00-cd13-4850-8e2f-53671c3ca569 button');\n",
              "      quickchartButtonEl.style.display =\n",
              "        google.colab.kernel.accessAllowed ? 'block' : 'none';\n",
              "    })();\n",
              "  </script>\n",
              "</div>\n",
              "\n",
              "    </div>\n",
              "  </div>\n"
            ],
            "application/vnd.google.colaboratory.intrinsic+json": {
              "type": "dataframe",
              "variable_name": "dataset",
              "summary": "{\n  \"name\": \"dataset\",\n  \"rows\": 140,\n  \"fields\": [\n    {\n      \"column\": \"STATION\",\n      \"properties\": {\n        \"dtype\": \"category\",\n        \"num_unique_values\": 10,\n        \"samples\": [\n          \"K42\",\n          \"C6\",\n          \"H4\"\n        ],\n        \"semantic_type\": \"\",\n        \"description\": \"\"\n      }\n    },\n    {\n      \"column\": \"Date\",\n      \"properties\": {\n        \"dtype\": \"object\",\n        \"num_unique_values\": 48,\n        \"samples\": [\n          \"15-09-2016\",\n          \"21-06-2022\",\n          \"28-10-2022\"\n        ],\n        \"semantic_type\": \"\",\n        \"description\": \"\"\n      }\n    },\n    {\n      \"column\": \"Band1_Mean\",\n      \"properties\": {\n        \"dtype\": \"number\",\n        \"std\": 1003.174514005338,\n        \"min\": 1019.5,\n        \"max\": 7984.0,\n        \"num_unique_values\": 117,\n        \"samples\": [\n          2490.0,\n          1233.0,\n          1138.0\n        ],\n        \"semantic_type\": \"\",\n        \"description\": \"\"\n      }\n    },\n    {\n      \"column\": \"Band2_Mean\",\n      \"properties\": {\n        \"dtype\": \"number\",\n        \"std\": 1058.849752111341,\n        \"min\": 709.0,\n        \"max\": 7926.0,\n        \"num_unique_values\": 125,\n        \"samples\": [\n          1845.25,\n          791.5,\n          1965.0\n        ],\n        \"semantic_type\": \"\",\n        \"description\": \"\"\n      }\n    },\n    {\n      \"column\": \"Band3_Mean\",\n      \"properties\": {\n        \"dtype\": \"number\",\n        \"std\": 1040.639595408881,\n        \"min\": 440.0,\n        \"max\": 7392.0,\n        \"num_unique_values\": 131,\n        \"samples\": [\n          726.0,\n          584.0,\n          510.0\n        ],\n        \"semantic_type\": \"\",\n        \"description\": \"\"\n      }\n    },\n    {\n      \"column\": \"Band4_Mean\",\n      \"properties\": {\n        \"dtype\": \"number\",\n        \"std\": 1121.3602433197136,\n        \"min\": 233.0,\n        \"max\": 8041.5,\n        \"num_unique_values\": 126,\n        \"samples\": [\n          1684.25,\n          281.0,\n          1324.0\n        ],\n        \"semantic_type\": \"\",\n        \"description\": \"\"\n      }\n    },\n    {\n      \"column\": \"Band5_Mean\",\n      \"properties\": {\n        \"dtype\": \"number\",\n        \"std\": 1138.7604249226392,\n        \"min\": 195.0,\n        \"max\": 8196.0,\n        \"num_unique_values\": 127,\n        \"samples\": [\n          267.0,\n          245.5,\n          611.0\n        ],\n        \"semantic_type\": \"\",\n        \"description\": \"\"\n      }\n    },\n    {\n      \"column\": \"Band6_Mean\",\n      \"properties\": {\n        \"dtype\": \"number\",\n        \"std\": 1168.8590118918344,\n        \"min\": 175.0,\n        \"max\": 8183.0,\n        \"num_unique_values\": 131,\n        \"samples\": [\n          407.5,\n          175.0,\n          233.0\n        ],\n        \"semantic_type\": \"\",\n        \"description\": \"\"\n      }\n    },\n    {\n      \"column\": \"Band7_Mean\",\n      \"properties\": {\n        \"dtype\": \"number\",\n        \"std\": 1189.5071678853137,\n        \"min\": 155.0,\n        \"max\": 8052.0,\n        \"num_unique_values\": 126,\n        \"samples\": [\n          612.0,\n          220.0,\n          241.0\n        ],\n        \"semantic_type\": \"\",\n        \"description\": \"\"\n      }\n    },\n    {\n      \"column\": \"Band8_Mean\",\n      \"properties\": {\n        \"dtype\": \"number\",\n        \"std\": 1181.3643598753345,\n        \"min\": 123.0,\n        \"max\": 7684.0,\n        \"num_unique_values\": 127,\n        \"samples\": [\n          192.0,\n          387.0,\n          542.0\n        ],\n        \"semantic_type\": \"\",\n        \"description\": \"\"\n      }\n    },\n    {\n      \"column\": \"Band9_Mean\",\n      \"properties\": {\n        \"dtype\": \"number\",\n        \"std\": 1197.7704829946329,\n        \"min\": 113.0,\n        \"max\": 7863.0,\n        \"num_unique_values\": 126,\n        \"samples\": [\n          668.0,\n          175.0,\n          690.5\n        ],\n        \"semantic_type\": \"\",\n        \"description\": \"\"\n      }\n    },\n    {\n      \"column\": \"Band10_Mean\",\n      \"properties\": {\n        \"dtype\": \"number\",\n        \"std\": 744.768133998653,\n        \"min\": 53.0,\n        \"max\": 4808.5,\n        \"num_unique_values\": 114,\n        \"samples\": [\n          1056.0,\n          88.0,\n          77.0\n        ],\n        \"semantic_type\": \"\",\n        \"description\": \"\"\n      }\n    },\n    {\n      \"column\": \"Band11_Mean\",\n      \"properties\": {\n        \"dtype\": \"number\",\n        \"std\": 434.9478485678396,\n        \"min\": 5.0,\n        \"max\": 1328.0,\n        \"num_unique_values\": 41,\n        \"samples\": [\n          1011.0,\n          1328.0,\n          7.0\n        ],\n        \"semantic_type\": \"\",\n        \"description\": \"\"\n      }\n    },\n    {\n      \"column\": \"Band12_Mean\",\n      \"properties\": {\n        \"dtype\": \"number\",\n        \"std\": 776.507941479185,\n        \"min\": 19.0,\n        \"max\": 4866.5,\n        \"num_unique_values\": 121,\n        \"samples\": [\n          75.0,\n          1142.0,\n          62.0\n        ],\n        \"semantic_type\": \"\",\n        \"description\": \"\"\n      }\n    },\n    {\n      \"column\": \"Band13_Mean\",\n      \"properties\": {\n        \"dtype\": \"number\",\n        \"std\": 664.1285615463034,\n        \"min\": 8.0,\n        \"max\": 3907.0,\n        \"num_unique_values\": 110,\n        \"samples\": [\n          1058.5,\n          21.0,\n          39.0\n        ],\n        \"semantic_type\": \"\",\n        \"description\": \"\"\n      }\n    },\n    {\n      \"column\": \"TEST VALUE\",\n      \"properties\": {\n        \"dtype\": \"number\",\n        \"std\": 0.21834248345711363,\n        \"min\": 0.318,\n        \"max\": 1.2,\n        \"num_unique_values\": 94,\n        \"samples\": [\n          0.939,\n          0.346,\n          0.945\n        ],\n        \"semantic_type\": \"\",\n        \"description\": \"\"\n      }\n    }\n  ]\n}"
            }
          },
          "metadata": {},
          "execution_count": 17
        }
      ]
    },
    {
      "cell_type": "markdown",
      "source": [
        "**Support Vector Regression**"
      ],
      "metadata": {
        "id": "wJtPpUYNnWG0"
      }
    },
    {
      "cell_type": "code",
      "source": [
        "features = ['Band2_Mean','Band3_Mean','Band4_Mean','Band5_Mean','Band6_Mean','Band7_Mean','Band8_Mean','Band9_Mean']\n",
        "label = ['TEST VALUE']\n",
        "\n",
        "X = dataset.loc[:, features].values\n",
        "y = dataset.loc[:, label].values\n",
        "\n",
        "#Train-Test Split\n",
        "X_train, X_test, y_train, y_test = train_test_split(X, y, test_size=0.2, random_state=42)\n",
        "\n",
        "#Model Developement\n",
        "svr_model = SVR(kernel='rbf')\n",
        "\n",
        "param_dist = {\n",
        "    'C': [x for x in range(1, 10001, 1)],\n",
        "    'epsilon': [x for x in np.arange(0.001, 1001, 0.001)]\n",
        "}\n",
        "\n",
        "random_search = RandomizedSearchCV(SVR(), param_distributions=param_dist, n_iter=200, cv=5, scoring='neg_mean_squared_error', random_state=42)\n",
        "random_search.fit(X_train, y_train)\n",
        "\n",
        "randomDf = pd.DataFrame(random_search.cv_results_)\n",
        "best_svr_model = random_search.best_estimator_\n",
        "\n",
        "y_pred = best_svr_model.predict(X_test)\n",
        "\n",
        "test_r2 = r2_score(y_test, y_pred)\n",
        "test_rmse = np.sqrt(mean_squared_error(y_test, y_pred))\n",
        "bias = best_svr_model.intercept_\n",
        "\n",
        "print(f\"Best Parameters: {random_search.best_params_}\")\n",
        "print(f\"R2 Score: {test_r2}\")\n",
        "print(f\"RMSE: {test_rmse}\")\n",
        "\n",
        "svr_model_filename = 'TN-svr.joblib'\n",
        "dump(best_svr_model, svr_model_filename)\n",
        "\n",
        "print(f\"Best SVR model saved to {svr_model_filename}\")"
      ],
      "metadata": {
        "colab": {
          "base_uri": "https://localhost:8080/",
          "height": 86
        },
        "id": "kfbrKl5bnF6y",
        "outputId": "ef251c11-edd2-4630-c9ef-eb9de64f069e"
      },
      "execution_count": 18,
      "outputs": [
        {
          "output_type": "display_data",
          "data": {
            "text/plain": [
              "<IPython.core.display.HTML object>"
            ],
            "text/html": [
              "\n",
              "            <style>\n",
              "                .geemap-dark {\n",
              "                    --jp-widgets-color: white;\n",
              "                    --jp-widgets-label-color: white;\n",
              "                    --jp-ui-font-color1: white;\n",
              "                    --jp-layout-color2: #454545;\n",
              "                    background-color: #383838;\n",
              "                }\n",
              "\n",
              "                .geemap-dark .jupyter-button {\n",
              "                    --jp-layout-color3: #383838;\n",
              "                }\n",
              "\n",
              "                .geemap-colab {\n",
              "                    background-color: var(--colab-primary-surface-color, white);\n",
              "                }\n",
              "\n",
              "                .geemap-colab .jupyter-button {\n",
              "                    --jp-layout-color3: var(--colab-primary-surface-color, white);\n",
              "                }\n",
              "            </style>\n",
              "            "
            ]
          },
          "metadata": {}
        },
        {
          "output_type": "stream",
          "name": "stdout",
          "text": [
            "Best Parameters: {'epsilon': 0.097, 'C': 348}\n",
            "R2 Score: -1.8488485416170755\n",
            "RMSE: 0.3769725570196915\n",
            "Best SVR model saved to TN-svr.joblib\n"
          ]
        }
      ]
    },
    {
      "cell_type": "markdown",
      "source": [
        "**TOTAL PHOSPHORUS**"
      ],
      "metadata": {
        "id": "oreeti7dn1fy"
      }
    },
    {
      "cell_type": "code",
      "source": [
        "dataset=pd.read_csv('Phosphorus_Sentinal_dataset.csv')\n",
        "dataset.head()\n",
        "dataset.dropna(inplace=True)\n",
        "print(dataset.count())"
      ],
      "metadata": {
        "colab": {
          "base_uri": "https://localhost:8080/",
          "height": 312
        },
        "id": "eoCU7r50nci8",
        "outputId": "b4b8d41a-94e4-445a-dfdf-530673fe4e62"
      },
      "execution_count": 19,
      "outputs": [
        {
          "output_type": "display_data",
          "data": {
            "text/plain": [
              "<IPython.core.display.HTML object>"
            ],
            "text/html": [
              "\n",
              "            <style>\n",
              "                .geemap-dark {\n",
              "                    --jp-widgets-color: white;\n",
              "                    --jp-widgets-label-color: white;\n",
              "                    --jp-ui-font-color1: white;\n",
              "                    --jp-layout-color2: #454545;\n",
              "                    background-color: #383838;\n",
              "                }\n",
              "\n",
              "                .geemap-dark .jupyter-button {\n",
              "                    --jp-layout-color3: #383838;\n",
              "                }\n",
              "\n",
              "                .geemap-colab {\n",
              "                    background-color: var(--colab-primary-surface-color, white);\n",
              "                }\n",
              "\n",
              "                .geemap-colab .jupyter-button {\n",
              "                    --jp-layout-color3: var(--colab-primary-surface-color, white);\n",
              "                }\n",
              "            </style>\n",
              "            "
            ]
          },
          "metadata": {}
        },
        {
          "output_type": "stream",
          "name": "stdout",
          "text": [
            "SiteID         349\n",
            "Date           349\n",
            "Band1_Mean     349\n",
            "Band2_Mean     349\n",
            "Band3_Mean     349\n",
            "Band4_Mean     349\n",
            "Band5_Mean     349\n",
            "Band6_Mean     349\n",
            "Band7_Mean     349\n",
            "Band8_Mean     349\n",
            "Band9_Mean     349\n",
            "Band10_Mean    349\n",
            "Band11_Mean    349\n",
            "Band12_Mean    349\n",
            "Band13_Mean    349\n",
            "TP             349\n",
            "dtype: int64\n"
          ]
        }
      ]
    },
    {
      "cell_type": "code",
      "source": [
        "print(dataset.columns)\n"
      ],
      "metadata": {
        "colab": {
          "base_uri": "https://localhost:8080/",
          "height": 104
        },
        "id": "HzE4lS0honnn",
        "outputId": "5b92b86f-ddd8-4127-cdfe-f80969bfacfe"
      },
      "execution_count": 21,
      "outputs": [
        {
          "output_type": "display_data",
          "data": {
            "text/plain": [
              "<IPython.core.display.HTML object>"
            ],
            "text/html": [
              "\n",
              "            <style>\n",
              "                .geemap-dark {\n",
              "                    --jp-widgets-color: white;\n",
              "                    --jp-widgets-label-color: white;\n",
              "                    --jp-ui-font-color1: white;\n",
              "                    --jp-layout-color2: #454545;\n",
              "                    background-color: #383838;\n",
              "                }\n",
              "\n",
              "                .geemap-dark .jupyter-button {\n",
              "                    --jp-layout-color3: #383838;\n",
              "                }\n",
              "\n",
              "                .geemap-colab {\n",
              "                    background-color: var(--colab-primary-surface-color, white);\n",
              "                }\n",
              "\n",
              "                .geemap-colab .jupyter-button {\n",
              "                    --jp-layout-color3: var(--colab-primary-surface-color, white);\n",
              "                }\n",
              "            </style>\n",
              "            "
            ]
          },
          "metadata": {}
        },
        {
          "output_type": "stream",
          "name": "stdout",
          "text": [
            "Index(['SiteID', 'Date', 'Band1_Mean', 'Band2_Mean', 'Band3_Mean',\n",
            "       'Band4_Mean', 'Band5_Mean', 'Band6_Mean', 'Band7_Mean', 'Band8_Mean',\n",
            "       'Band9_Mean', 'Band10_Mean', 'Band11_Mean', 'Band12_Mean',\n",
            "       'Band13_Mean', 'TP'],\n",
            "      dtype='object')\n"
          ]
        }
      ]
    },
    {
      "cell_type": "code",
      "source": [
        "label = ['TP']"
      ],
      "metadata": {
        "colab": {
          "base_uri": "https://localhost:8080/",
          "height": 17
        },
        "id": "QdQq7kY2qC69",
        "outputId": "63579b03-4e47-4788-c18b-93334f19376f"
      },
      "execution_count": 24,
      "outputs": [
        {
          "output_type": "display_data",
          "data": {
            "text/plain": [
              "<IPython.core.display.HTML object>"
            ],
            "text/html": [
              "\n",
              "            <style>\n",
              "                .geemap-dark {\n",
              "                    --jp-widgets-color: white;\n",
              "                    --jp-widgets-label-color: white;\n",
              "                    --jp-ui-font-color1: white;\n",
              "                    --jp-layout-color2: #454545;\n",
              "                    background-color: #383838;\n",
              "                }\n",
              "\n",
              "                .geemap-dark .jupyter-button {\n",
              "                    --jp-layout-color3: #383838;\n",
              "                }\n",
              "\n",
              "                .geemap-colab {\n",
              "                    background-color: var(--colab-primary-surface-color, white);\n",
              "                }\n",
              "\n",
              "                .geemap-colab .jupyter-button {\n",
              "                    --jp-layout-color3: var(--colab-primary-surface-color, white);\n",
              "                }\n",
              "            </style>\n",
              "            "
            ]
          },
          "metadata": {}
        }
      ]
    },
    {
      "cell_type": "code",
      "source": [
        "from sklearn.neural_network import MLPRegressor\n",
        "from sklearn.model_selection import train_test_split\n",
        "from sklearn.metrics import mean_squared_error, r2_score\n",
        "import pandas as pd\n",
        "from sklearn.preprocessing import StandardScaler\n",
        "\n",
        "# Assuming 'dataset' is your DataFrame\n",
        "\n",
        "# Define features and labels\n",
        "# Define features and labels\n",
        "features = ['Band1_Mean', 'Band2_Mean', 'Band3_Mean', 'Band4_Mean', 'Band5_Mean', 'Band6_Mean', 'Band7_Mean', 'Band8_Mean',\n",
        "            'Band9_Mean', 'Band10_Mean', 'Band11_Mean', 'Band12_Mean', 'Band13_Mean']\n",
        "label = ['TP']  # Update this line\n",
        "\n",
        "X = dataset.loc[:, features].values\n",
        "y = dataset.loc[:, label].values\n",
        "\n",
        "# Split the data into training and testing sets\n",
        "X_train, X_test, y_train, y_test = train_test_split(X, y, test_size=0.2, random_state=42)\n",
        "\n",
        "# Standardize the features (important for neural networks)\n",
        "scaler = StandardScaler()\n",
        "X_train_scaled = scaler.fit_transform(X_train)\n",
        "X_test_scaled = scaler.transform(X_test)\n",
        "\n",
        "# Create MLPRegressor\n",
        "mlp_regressor = MLPRegressor(hidden_layer_sizes=(50000, ), activation='relu', solver='adam', max_iter=500, random_state=42)\n",
        "\n",
        "# Fit the model\n",
        "mlp_regressor.fit(X_train_scaled, y_train)\n",
        "\n",
        "# Make predictions\n",
        "y_pred = mlp_regressor.predict(X_test_scaled)\n",
        "\n",
        "# Evaluate the model\n",
        "mse = mean_squared_error(y_test, y_pred)\n",
        "print(f'Mean Squared Error: {mse}')\n",
        "r2 = r2_score(y_test, y_pred)\n",
        "print(f\"R^2 Score on Test Set: {r2}\")\n",
        "\n",
        "mlp_model_filename = 'TP-mlp.joblib'\n",
        "dump(mlp_regressor, mlp_model_filename)\n",
        "print(f'MLPRegressor model saved as {mlp_model_filename}')"
      ],
      "metadata": {
        "colab": {
          "base_uri": "https://localhost:8080/",
          "height": 69
        },
        "id": "o2cCoR9CpB5B",
        "outputId": "9494e310-a31c-4b2e-b34a-0ce05dd1403d"
      },
      "execution_count": 28,
      "outputs": [
        {
          "output_type": "display_data",
          "data": {
            "text/plain": [
              "<IPython.core.display.HTML object>"
            ],
            "text/html": [
              "\n",
              "            <style>\n",
              "                .geemap-dark {\n",
              "                    --jp-widgets-color: white;\n",
              "                    --jp-widgets-label-color: white;\n",
              "                    --jp-ui-font-color1: white;\n",
              "                    --jp-layout-color2: #454545;\n",
              "                    background-color: #383838;\n",
              "                }\n",
              "\n",
              "                .geemap-dark .jupyter-button {\n",
              "                    --jp-layout-color3: #383838;\n",
              "                }\n",
              "\n",
              "                .geemap-colab {\n",
              "                    background-color: var(--colab-primary-surface-color, white);\n",
              "                }\n",
              "\n",
              "                .geemap-colab .jupyter-button {\n",
              "                    --jp-layout-color3: var(--colab-primary-surface-color, white);\n",
              "                }\n",
              "            </style>\n",
              "            "
            ]
          },
          "metadata": {}
        },
        {
          "output_type": "stream",
          "name": "stdout",
          "text": [
            "Mean Squared Error: 0.023354135682960367\n",
            "R^2 Score on Test Set: 0.30386741857463084\n",
            "MLPRegressor model saved as TP-mlp.joblib\n"
          ]
        }
      ]
    },
    {
      "cell_type": "markdown",
      "source": [
        "**pH**"
      ],
      "metadata": {
        "id": "j4P0htYjqo4E"
      }
    },
    {
      "cell_type": "code",
      "source": [
        "df=pd.read_csv('Ph_Landsat_dataset.csv')\n",
        "df.head()"
      ],
      "metadata": {
        "colab": {
          "base_uri": "https://localhost:8080/",
          "height": 486
        },
        "id": "mMgg56GApKeB",
        "outputId": "f28e3652-4048-4801-fe7f-4fcb109fcfd7"
      },
      "execution_count": 30,
      "outputs": [
        {
          "output_type": "display_data",
          "data": {
            "text/plain": [
              "<IPython.core.display.HTML object>"
            ],
            "text/html": [
              "\n",
              "            <style>\n",
              "                .geemap-dark {\n",
              "                    --jp-widgets-color: white;\n",
              "                    --jp-widgets-label-color: white;\n",
              "                    --jp-ui-font-color1: white;\n",
              "                    --jp-layout-color2: #454545;\n",
              "                    background-color: #383838;\n",
              "                }\n",
              "\n",
              "                .geemap-dark .jupyter-button {\n",
              "                    --jp-layout-color3: #383838;\n",
              "                }\n",
              "\n",
              "                .geemap-colab {\n",
              "                    background-color: var(--colab-primary-surface-color, white);\n",
              "                }\n",
              "\n",
              "                .geemap-colab .jupyter-button {\n",
              "                    --jp-layout-color3: var(--colab-primary-surface-color, white);\n",
              "                }\n",
              "            </style>\n",
              "            "
            ]
          },
          "metadata": {}
        },
        {
          "output_type": "execute_result",
          "data": {
            "text/plain": [
              "       SiteID              Date  Band1_Mean  Band2_Mean  Band3_Mean  \\\n",
              "0  BLUE_CHALK  03-06-2015 00:00    0.125024    0.101374    0.074620   \n",
              "1  BLUE_CHALK  15-07-2015 00:00    0.178984    0.150875    0.111050   \n",
              "2  BLUE_CHALK  28-08-2015 00:00    0.200051    0.168958    0.120381   \n",
              "3  BLUE_CHALK  05-11-2015 00:00    0.127767    0.100123    0.060282   \n",
              "4  BLUE_CHALK  17-11-2015 00:00    0.214717    0.176831    0.115975   \n",
              "\n",
              "   Band4_Mean  Band5_Mean    PH  \n",
              "0    0.053516    0.086735  6.77  \n",
              "1    0.084422    0.131796  6.60  \n",
              "2    0.087537    0.130874  6.85  \n",
              "3    0.040461    0.036792  6.66  \n",
              "4    0.093581    0.091780  6.69  "
            ],
            "text/html": [
              "\n",
              "  <div id=\"df-28f4e267-7b89-4446-918a-55092bc3ecf4\" class=\"colab-df-container\">\n",
              "    <div>\n",
              "<style scoped>\n",
              "    .dataframe tbody tr th:only-of-type {\n",
              "        vertical-align: middle;\n",
              "    }\n",
              "\n",
              "    .dataframe tbody tr th {\n",
              "        vertical-align: top;\n",
              "    }\n",
              "\n",
              "    .dataframe thead th {\n",
              "        text-align: right;\n",
              "    }\n",
              "</style>\n",
              "<table border=\"1\" class=\"dataframe\">\n",
              "  <thead>\n",
              "    <tr style=\"text-align: right;\">\n",
              "      <th></th>\n",
              "      <th>SiteID</th>\n",
              "      <th>Date</th>\n",
              "      <th>Band1_Mean</th>\n",
              "      <th>Band2_Mean</th>\n",
              "      <th>Band3_Mean</th>\n",
              "      <th>Band4_Mean</th>\n",
              "      <th>Band5_Mean</th>\n",
              "      <th>PH</th>\n",
              "    </tr>\n",
              "  </thead>\n",
              "  <tbody>\n",
              "    <tr>\n",
              "      <th>0</th>\n",
              "      <td>BLUE_CHALK</td>\n",
              "      <td>03-06-2015 00:00</td>\n",
              "      <td>0.125024</td>\n",
              "      <td>0.101374</td>\n",
              "      <td>0.074620</td>\n",
              "      <td>0.053516</td>\n",
              "      <td>0.086735</td>\n",
              "      <td>6.77</td>\n",
              "    </tr>\n",
              "    <tr>\n",
              "      <th>1</th>\n",
              "      <td>BLUE_CHALK</td>\n",
              "      <td>15-07-2015 00:00</td>\n",
              "      <td>0.178984</td>\n",
              "      <td>0.150875</td>\n",
              "      <td>0.111050</td>\n",
              "      <td>0.084422</td>\n",
              "      <td>0.131796</td>\n",
              "      <td>6.60</td>\n",
              "    </tr>\n",
              "    <tr>\n",
              "      <th>2</th>\n",
              "      <td>BLUE_CHALK</td>\n",
              "      <td>28-08-2015 00:00</td>\n",
              "      <td>0.200051</td>\n",
              "      <td>0.168958</td>\n",
              "      <td>0.120381</td>\n",
              "      <td>0.087537</td>\n",
              "      <td>0.130874</td>\n",
              "      <td>6.85</td>\n",
              "    </tr>\n",
              "    <tr>\n",
              "      <th>3</th>\n",
              "      <td>BLUE_CHALK</td>\n",
              "      <td>05-11-2015 00:00</td>\n",
              "      <td>0.127767</td>\n",
              "      <td>0.100123</td>\n",
              "      <td>0.060282</td>\n",
              "      <td>0.040461</td>\n",
              "      <td>0.036792</td>\n",
              "      <td>6.66</td>\n",
              "    </tr>\n",
              "    <tr>\n",
              "      <th>4</th>\n",
              "      <td>BLUE_CHALK</td>\n",
              "      <td>17-11-2015 00:00</td>\n",
              "      <td>0.214717</td>\n",
              "      <td>0.176831</td>\n",
              "      <td>0.115975</td>\n",
              "      <td>0.093581</td>\n",
              "      <td>0.091780</td>\n",
              "      <td>6.69</td>\n",
              "    </tr>\n",
              "  </tbody>\n",
              "</table>\n",
              "</div>\n",
              "    <div class=\"colab-df-buttons\">\n",
              "\n",
              "  <div class=\"colab-df-container\">\n",
              "    <button class=\"colab-df-convert\" onclick=\"convertToInteractive('df-28f4e267-7b89-4446-918a-55092bc3ecf4')\"\n",
              "            title=\"Convert this dataframe to an interactive table.\"\n",
              "            style=\"display:none;\">\n",
              "\n",
              "  <svg xmlns=\"http://www.w3.org/2000/svg\" height=\"24px\" viewBox=\"0 -960 960 960\">\n",
              "    <path d=\"M120-120v-720h720v720H120Zm60-500h600v-160H180v160Zm220 220h160v-160H400v160Zm0 220h160v-160H400v160ZM180-400h160v-160H180v160Zm440 0h160v-160H620v160ZM180-180h160v-160H180v160Zm440 0h160v-160H620v160Z\"/>\n",
              "  </svg>\n",
              "    </button>\n",
              "\n",
              "  <style>\n",
              "    .colab-df-container {\n",
              "      display:flex;\n",
              "      gap: 12px;\n",
              "    }\n",
              "\n",
              "    .colab-df-convert {\n",
              "      background-color: #E8F0FE;\n",
              "      border: none;\n",
              "      border-radius: 50%;\n",
              "      cursor: pointer;\n",
              "      display: none;\n",
              "      fill: #1967D2;\n",
              "      height: 32px;\n",
              "      padding: 0 0 0 0;\n",
              "      width: 32px;\n",
              "    }\n",
              "\n",
              "    .colab-df-convert:hover {\n",
              "      background-color: #E2EBFA;\n",
              "      box-shadow: 0px 1px 2px rgba(60, 64, 67, 0.3), 0px 1px 3px 1px rgba(60, 64, 67, 0.15);\n",
              "      fill: #174EA6;\n",
              "    }\n",
              "\n",
              "    .colab-df-buttons div {\n",
              "      margin-bottom: 4px;\n",
              "    }\n",
              "\n",
              "    [theme=dark] .colab-df-convert {\n",
              "      background-color: #3B4455;\n",
              "      fill: #D2E3FC;\n",
              "    }\n",
              "\n",
              "    [theme=dark] .colab-df-convert:hover {\n",
              "      background-color: #434B5C;\n",
              "      box-shadow: 0px 1px 3px 1px rgba(0, 0, 0, 0.15);\n",
              "      filter: drop-shadow(0px 1px 2px rgba(0, 0, 0, 0.3));\n",
              "      fill: #FFFFFF;\n",
              "    }\n",
              "  </style>\n",
              "\n",
              "    <script>\n",
              "      const buttonEl =\n",
              "        document.querySelector('#df-28f4e267-7b89-4446-918a-55092bc3ecf4 button.colab-df-convert');\n",
              "      buttonEl.style.display =\n",
              "        google.colab.kernel.accessAllowed ? 'block' : 'none';\n",
              "\n",
              "      async function convertToInteractive(key) {\n",
              "        const element = document.querySelector('#df-28f4e267-7b89-4446-918a-55092bc3ecf4');\n",
              "        const dataTable =\n",
              "          await google.colab.kernel.invokeFunction('convertToInteractive',\n",
              "                                                    [key], {});\n",
              "        if (!dataTable) return;\n",
              "\n",
              "        const docLinkHtml = 'Like what you see? Visit the ' +\n",
              "          '<a target=\"_blank\" href=https://colab.research.google.com/notebooks/data_table.ipynb>data table notebook</a>'\n",
              "          + ' to learn more about interactive tables.';\n",
              "        element.innerHTML = '';\n",
              "        dataTable['output_type'] = 'display_data';\n",
              "        await google.colab.output.renderOutput(dataTable, element);\n",
              "        const docLink = document.createElement('div');\n",
              "        docLink.innerHTML = docLinkHtml;\n",
              "        element.appendChild(docLink);\n",
              "      }\n",
              "    </script>\n",
              "  </div>\n",
              "\n",
              "\n",
              "<div id=\"df-30284331-bc60-4c01-90a2-973ad4c23cd1\">\n",
              "  <button class=\"colab-df-quickchart\" onclick=\"quickchart('df-30284331-bc60-4c01-90a2-973ad4c23cd1')\"\n",
              "            title=\"Suggest charts\"\n",
              "            style=\"display:none;\">\n",
              "\n",
              "<svg xmlns=\"http://www.w3.org/2000/svg\" height=\"24px\"viewBox=\"0 0 24 24\"\n",
              "     width=\"24px\">\n",
              "    <g>\n",
              "        <path d=\"M19 3H5c-1.1 0-2 .9-2 2v14c0 1.1.9 2 2 2h14c1.1 0 2-.9 2-2V5c0-1.1-.9-2-2-2zM9 17H7v-7h2v7zm4 0h-2V7h2v10zm4 0h-2v-4h2v4z\"/>\n",
              "    </g>\n",
              "</svg>\n",
              "  </button>\n",
              "\n",
              "<style>\n",
              "  .colab-df-quickchart {\n",
              "      --bg-color: #E8F0FE;\n",
              "      --fill-color: #1967D2;\n",
              "      --hover-bg-color: #E2EBFA;\n",
              "      --hover-fill-color: #174EA6;\n",
              "      --disabled-fill-color: #AAA;\n",
              "      --disabled-bg-color: #DDD;\n",
              "  }\n",
              "\n",
              "  [theme=dark] .colab-df-quickchart {\n",
              "      --bg-color: #3B4455;\n",
              "      --fill-color: #D2E3FC;\n",
              "      --hover-bg-color: #434B5C;\n",
              "      --hover-fill-color: #FFFFFF;\n",
              "      --disabled-bg-color: #3B4455;\n",
              "      --disabled-fill-color: #666;\n",
              "  }\n",
              "\n",
              "  .colab-df-quickchart {\n",
              "    background-color: var(--bg-color);\n",
              "    border: none;\n",
              "    border-radius: 50%;\n",
              "    cursor: pointer;\n",
              "    display: none;\n",
              "    fill: var(--fill-color);\n",
              "    height: 32px;\n",
              "    padding: 0;\n",
              "    width: 32px;\n",
              "  }\n",
              "\n",
              "  .colab-df-quickchart:hover {\n",
              "    background-color: var(--hover-bg-color);\n",
              "    box-shadow: 0 1px 2px rgba(60, 64, 67, 0.3), 0 1px 3px 1px rgba(60, 64, 67, 0.15);\n",
              "    fill: var(--button-hover-fill-color);\n",
              "  }\n",
              "\n",
              "  .colab-df-quickchart-complete:disabled,\n",
              "  .colab-df-quickchart-complete:disabled:hover {\n",
              "    background-color: var(--disabled-bg-color);\n",
              "    fill: var(--disabled-fill-color);\n",
              "    box-shadow: none;\n",
              "  }\n",
              "\n",
              "  .colab-df-spinner {\n",
              "    border: 2px solid var(--fill-color);\n",
              "    border-color: transparent;\n",
              "    border-bottom-color: var(--fill-color);\n",
              "    animation:\n",
              "      spin 1s steps(1) infinite;\n",
              "  }\n",
              "\n",
              "  @keyframes spin {\n",
              "    0% {\n",
              "      border-color: transparent;\n",
              "      border-bottom-color: var(--fill-color);\n",
              "      border-left-color: var(--fill-color);\n",
              "    }\n",
              "    20% {\n",
              "      border-color: transparent;\n",
              "      border-left-color: var(--fill-color);\n",
              "      border-top-color: var(--fill-color);\n",
              "    }\n",
              "    30% {\n",
              "      border-color: transparent;\n",
              "      border-left-color: var(--fill-color);\n",
              "      border-top-color: var(--fill-color);\n",
              "      border-right-color: var(--fill-color);\n",
              "    }\n",
              "    40% {\n",
              "      border-color: transparent;\n",
              "      border-right-color: var(--fill-color);\n",
              "      border-top-color: var(--fill-color);\n",
              "    }\n",
              "    60% {\n",
              "      border-color: transparent;\n",
              "      border-right-color: var(--fill-color);\n",
              "    }\n",
              "    80% {\n",
              "      border-color: transparent;\n",
              "      border-right-color: var(--fill-color);\n",
              "      border-bottom-color: var(--fill-color);\n",
              "    }\n",
              "    90% {\n",
              "      border-color: transparent;\n",
              "      border-bottom-color: var(--fill-color);\n",
              "    }\n",
              "  }\n",
              "</style>\n",
              "\n",
              "  <script>\n",
              "    async function quickchart(key) {\n",
              "      const quickchartButtonEl =\n",
              "        document.querySelector('#' + key + ' button');\n",
              "      quickchartButtonEl.disabled = true;  // To prevent multiple clicks.\n",
              "      quickchartButtonEl.classList.add('colab-df-spinner');\n",
              "      try {\n",
              "        const charts = await google.colab.kernel.invokeFunction(\n",
              "            'suggestCharts', [key], {});\n",
              "      } catch (error) {\n",
              "        console.error('Error during call to suggestCharts:', error);\n",
              "      }\n",
              "      quickchartButtonEl.classList.remove('colab-df-spinner');\n",
              "      quickchartButtonEl.classList.add('colab-df-quickchart-complete');\n",
              "    }\n",
              "    (() => {\n",
              "      let quickchartButtonEl =\n",
              "        document.querySelector('#df-30284331-bc60-4c01-90a2-973ad4c23cd1 button');\n",
              "      quickchartButtonEl.style.display =\n",
              "        google.colab.kernel.accessAllowed ? 'block' : 'none';\n",
              "    })();\n",
              "  </script>\n",
              "</div>\n",
              "\n",
              "    </div>\n",
              "  </div>\n"
            ],
            "application/vnd.google.colaboratory.intrinsic+json": {
              "type": "dataframe",
              "variable_name": "df",
              "summary": "{\n  \"name\": \"df\",\n  \"rows\": 593,\n  \"fields\": [\n    {\n      \"column\": \"SiteID\",\n      \"properties\": {\n        \"dtype\": \"category\",\n        \"num_unique_values\": 16,\n        \"samples\": [\n          \"BLUE_CHALK\",\n          \"CHUB\",\n          \"PLASTIC\"\n        ],\n        \"semantic_type\": \"\",\n        \"description\": \"\"\n      }\n    },\n    {\n      \"column\": \"Date\",\n      \"properties\": {\n        \"dtype\": \"string\",\n        \"num_unique_values\": 378,\n        \"samples\": [\n          \"17-11-2020\",\n          \"11-04-2018\",\n          \"14-12-2016\"\n        ],\n        \"semantic_type\": \"\",\n        \"description\": \"\"\n      }\n    },\n    {\n      \"column\": \"Band1_Mean\",\n      \"properties\": {\n        \"dtype\": \"number\",\n        \"std\": 0.08141809326002196,\n        \"min\": 0.0935142,\n        \"max\": 0.766315,\n        \"num_unique_values\": 545,\n        \"samples\": [\n          0.136204302,\n          0.544251382,\n          0.154293135\n        ],\n        \"semantic_type\": \"\",\n        \"description\": \"\"\n      }\n    },\n    {\n      \"column\": \"Band2_Mean\",\n      \"properties\": {\n        \"dtype\": \"number\",\n        \"std\": 0.08561186737184312,\n        \"min\": 0.071143515,\n        \"max\": 0.7548311,\n        \"num_unique_values\": 545,\n        \"samples\": [\n          0.105466917,\n          0.552107096,\n          0.125915542\n        ],\n        \"semantic_type\": \"\",\n        \"description\": \"\"\n      }\n    },\n    {\n      \"column\": \"Band3_Mean\",\n      \"properties\": {\n        \"dtype\": \"number\",\n        \"std\": 0.08476509912805995,\n        \"min\": 0.039887115,\n        \"max\": 0.70129013,\n        \"num_unique_values\": 545,\n        \"samples\": [\n          0.062718041,\n          0.526421905,\n          0.082187928\n        ],\n        \"semantic_type\": \"\",\n        \"description\": \"\"\n      }\n    },\n    {\n      \"column\": \"Band4_Mean\",\n      \"properties\": {\n        \"dtype\": \"number\",\n        \"std\": 0.09177985563045496,\n        \"min\": 0.022798844,\n        \"max\": 0.72679824,\n        \"num_unique_values\": 545,\n        \"samples\": [\n          0.043497365,\n          0.566705346,\n          0.064767756\n        ],\n        \"semantic_type\": \"\",\n        \"description\": \"\"\n      }\n    },\n    {\n      \"column\": \"Band5_Mean\",\n      \"properties\": {\n        \"dtype\": \"number\",\n        \"std\": 0.09565310394509928,\n        \"min\": 0.015563326,\n        \"max\": 0.75151503,\n        \"num_unique_values\": 545,\n        \"samples\": [\n          0.0395656,\n          0.602033138,\n          0.175298721\n        ],\n        \"semantic_type\": \"\",\n        \"description\": \"\"\n      }\n    },\n    {\n      \"column\": \"PH\",\n      \"properties\": {\n        \"dtype\": \"number\",\n        \"std\": 1.307018914187824,\n        \"min\": 4.445,\n        \"max\": 9.88,\n        \"num_unique_values\": 417,\n        \"samples\": [\n          6.212,\n          8.41,\n          8.79\n        ],\n        \"semantic_type\": \"\",\n        \"description\": \"\"\n      }\n    }\n  ]\n}"
            }
          },
          "metadata": {},
          "execution_count": 30
        }
      ]
    },
    {
      "cell_type": "code",
      "source": [
        "df.dropna(inplace=True)\n",
        "print(df.count())"
      ],
      "metadata": {
        "colab": {
          "base_uri": "https://localhost:8080/",
          "height": 173
        },
        "id": "32ePH8wEq7R9",
        "outputId": "07ad07e6-fd47-42bc-d3a0-d39b587a731b"
      },
      "execution_count": 31,
      "outputs": [
        {
          "output_type": "display_data",
          "data": {
            "text/plain": [
              "<IPython.core.display.HTML object>"
            ],
            "text/html": [
              "\n",
              "            <style>\n",
              "                .geemap-dark {\n",
              "                    --jp-widgets-color: white;\n",
              "                    --jp-widgets-label-color: white;\n",
              "                    --jp-ui-font-color1: white;\n",
              "                    --jp-layout-color2: #454545;\n",
              "                    background-color: #383838;\n",
              "                }\n",
              "\n",
              "                .geemap-dark .jupyter-button {\n",
              "                    --jp-layout-color3: #383838;\n",
              "                }\n",
              "\n",
              "                .geemap-colab {\n",
              "                    background-color: var(--colab-primary-surface-color, white);\n",
              "                }\n",
              "\n",
              "                .geemap-colab .jupyter-button {\n",
              "                    --jp-layout-color3: var(--colab-primary-surface-color, white);\n",
              "                }\n",
              "            </style>\n",
              "            "
            ]
          },
          "metadata": {}
        },
        {
          "output_type": "stream",
          "name": "stdout",
          "text": [
            "SiteID        593\n",
            "Date          593\n",
            "Band1_Mean    593\n",
            "Band2_Mean    593\n",
            "Band3_Mean    593\n",
            "Band4_Mean    593\n",
            "Band5_Mean    593\n",
            "PH            593\n",
            "dtype: int64\n"
          ]
        }
      ]
    },
    {
      "cell_type": "code",
      "source": [
        "for i in range(1, 6):\n",
        "    for j in range(1, 6):\n",
        "        if i!=j:\n",
        "            new_column_name = f'B{i}_B{j}_Ratio'\n",
        "            print(new_column_name)\n",
        "            df[new_column_name] = df[f'Band{i}_Mean'] / df[f'Band{j}_Mean']\n",
        "# df.head()"
      ],
      "metadata": {
        "colab": {
          "base_uri": "https://localhost:8080/",
          "height": 364
        },
        "id": "6a4ZjJmUq_zS",
        "outputId": "65d5ebba-5b7b-4951-9cf8-2c3eb3c759a1"
      },
      "execution_count": 32,
      "outputs": [
        {
          "output_type": "display_data",
          "data": {
            "text/plain": [
              "<IPython.core.display.HTML object>"
            ],
            "text/html": [
              "\n",
              "            <style>\n",
              "                .geemap-dark {\n",
              "                    --jp-widgets-color: white;\n",
              "                    --jp-widgets-label-color: white;\n",
              "                    --jp-ui-font-color1: white;\n",
              "                    --jp-layout-color2: #454545;\n",
              "                    background-color: #383838;\n",
              "                }\n",
              "\n",
              "                .geemap-dark .jupyter-button {\n",
              "                    --jp-layout-color3: #383838;\n",
              "                }\n",
              "\n",
              "                .geemap-colab {\n",
              "                    background-color: var(--colab-primary-surface-color, white);\n",
              "                }\n",
              "\n",
              "                .geemap-colab .jupyter-button {\n",
              "                    --jp-layout-color3: var(--colab-primary-surface-color, white);\n",
              "                }\n",
              "            </style>\n",
              "            "
            ]
          },
          "metadata": {}
        },
        {
          "output_type": "stream",
          "name": "stdout",
          "text": [
            "B1_B2_Ratio\n",
            "B1_B3_Ratio\n",
            "B1_B4_Ratio\n",
            "B1_B5_Ratio\n",
            "B2_B1_Ratio\n",
            "B2_B3_Ratio\n",
            "B2_B4_Ratio\n",
            "B2_B5_Ratio\n",
            "B3_B1_Ratio\n",
            "B3_B2_Ratio\n",
            "B3_B4_Ratio\n",
            "B3_B5_Ratio\n",
            "B4_B1_Ratio\n",
            "B4_B2_Ratio\n",
            "B4_B3_Ratio\n",
            "B4_B5_Ratio\n",
            "B5_B1_Ratio\n",
            "B5_B2_Ratio\n",
            "B5_B3_Ratio\n",
            "B5_B4_Ratio\n"
          ]
        }
      ]
    },
    {
      "cell_type": "markdown",
      "source": [
        "**Support Vector Regression**"
      ],
      "metadata": {
        "id": "unSqZMy1rGER"
      }
    },
    {
      "cell_type": "code",
      "source": [
        "features = [\n",
        "    'Band1_Mean', 'Band2_Mean', 'Band3_Mean', 'Band4_Mean', 'Band5_Mean',\n",
        "    'B1_B2_Ratio','B1_B3_Ratio','B1_B4_Ratio','B1_B5_Ratio','B2_B1_Ratio','B2_B3_Ratio',\n",
        "    'B2_B4_Ratio','B2_B5_Ratio','B3_B1_Ratio','B3_B2_Ratio','B3_B4_Ratio','B3_B5_Ratio','B4_B1_Ratio',\n",
        "    'B4_B2_Ratio','B4_B3_Ratio','B4_B5_Ratio','B5_B1_Ratio','B5_B2_Ratio','B5_B3_Ratio','B5_B4_Ratio'\n",
        "]\n",
        "\n",
        "label = ['PH']\n",
        "\n",
        "X = df.loc[:, features].values\n",
        "y = df.loc[:, label].values\n",
        "\n",
        "#Test-train split\n",
        "X_train, X_test, y_train, y_test = train_test_split(X, y, test_size=0.2, random_state=42)\n",
        "\n",
        "#Model Development\n",
        "svr_model = SVR(kernel='rbf')\n",
        "\n",
        "param_dist = {\n",
        "    'C': [x for x in range(1, 10001, 1)],\n",
        "    'epsilon': [x for x in np.arange(0.001, 1001, 0.001)]\n",
        "}\n",
        "\n",
        "random_search = RandomizedSearchCV(SVR(), param_distributions=param_dist, n_iter=200, cv=5, scoring='neg_mean_squared_error', random_state=42)\n",
        "random_search.fit(X_train, y_train)\n",
        "\n",
        "randomDf = pd.DataFrame(random_search.cv_results_)\n",
        "best_svr_model = random_search.best_estimator_\n",
        "\n",
        "y_pred = best_svr_model.predict(X_test)\n",
        "\n",
        "#Model Evaluation\n",
        "test_r2 = r2_score(y_test, y_pred)\n",
        "test_rmse = np.sqrt(mean_squared_error(y_test, y_pred))\n",
        "\n",
        "print(f\"Best Parameters: {random_search.best_params_}\")\n",
        "print(f\"R2 Score: {test_r2}\")\n",
        "print(f\"RMSE on Test Set: {test_rmse}\")\n",
        "\n",
        "svr_model_filename = 'ph-svr.joblib'\n",
        "dump(best_svr_model, svr_model_filename)\n",
        "print(f'Best SVR model saved as {svr_model_filename}')"
      ],
      "metadata": {
        "colab": {
          "base_uri": "https://localhost:8080/",
          "height": 86
        },
        "id": "yLAAbtEUrCeA",
        "outputId": "8d4700da-9222-4e4a-e4f2-321b0c0a0807"
      },
      "execution_count": 38,
      "outputs": [
        {
          "output_type": "display_data",
          "data": {
            "text/plain": [
              "<IPython.core.display.HTML object>"
            ],
            "text/html": [
              "\n",
              "            <style>\n",
              "                .geemap-dark {\n",
              "                    --jp-widgets-color: white;\n",
              "                    --jp-widgets-label-color: white;\n",
              "                    --jp-ui-font-color1: white;\n",
              "                    --jp-layout-color2: #454545;\n",
              "                    background-color: #383838;\n",
              "                }\n",
              "\n",
              "                .geemap-dark .jupyter-button {\n",
              "                    --jp-layout-color3: #383838;\n",
              "                }\n",
              "\n",
              "                .geemap-colab {\n",
              "                    background-color: var(--colab-primary-surface-color, white);\n",
              "                }\n",
              "\n",
              "                .geemap-colab .jupyter-button {\n",
              "                    --jp-layout-color3: var(--colab-primary-surface-color, white);\n",
              "                }\n",
              "            </style>\n",
              "            "
            ]
          },
          "metadata": {}
        },
        {
          "output_type": "stream",
          "name": "stdout",
          "text": [
            "Best Parameters: {'epsilon': 0.182, 'C': 4322}\n",
            "R2 Score: 0.5121841409152028\n",
            "RMSE on Test Set: 0.9078401712010173\n",
            "Best SVR model saved as ph-svr.joblib\n"
          ]
        }
      ]
    },
    {
      "cell_type": "code",
      "source": [
        "pip install rasterio matplotlib numpy"
      ],
      "metadata": {
        "colab": {
          "base_uri": "https://localhost:8080/",
          "height": 488
        },
        "id": "ScmhLpcSrOKn",
        "outputId": "7f5403af-13ed-4547-e1f6-e1ab43b40ab7"
      },
      "execution_count": 39,
      "outputs": [
        {
          "output_type": "display_data",
          "data": {
            "text/plain": [
              "<IPython.core.display.HTML object>"
            ],
            "text/html": [
              "\n",
              "            <style>\n",
              "                .geemap-dark {\n",
              "                    --jp-widgets-color: white;\n",
              "                    --jp-widgets-label-color: white;\n",
              "                    --jp-ui-font-color1: white;\n",
              "                    --jp-layout-color2: #454545;\n",
              "                    background-color: #383838;\n",
              "                }\n",
              "\n",
              "                .geemap-dark .jupyter-button {\n",
              "                    --jp-layout-color3: #383838;\n",
              "                }\n",
              "\n",
              "                .geemap-colab {\n",
              "                    background-color: var(--colab-primary-surface-color, white);\n",
              "                }\n",
              "\n",
              "                .geemap-colab .jupyter-button {\n",
              "                    --jp-layout-color3: var(--colab-primary-surface-color, white);\n",
              "                }\n",
              "            </style>\n",
              "            "
            ]
          },
          "metadata": {}
        },
        {
          "output_type": "stream",
          "name": "stdout",
          "text": [
            "Collecting rasterio\n",
            "  Downloading rasterio-1.3.10-cp310-cp310-manylinux2014_x86_64.whl (21.5 MB)\n",
            "\u001b[2K     \u001b[90m━━━━━━━━━━━━━━━━━━━━━━━━━━━━━━━━━━━━━━━━\u001b[0m \u001b[32m21.5/21.5 MB\u001b[0m \u001b[31m20.5 MB/s\u001b[0m eta \u001b[36m0:00:00\u001b[0m\n",
            "\u001b[?25hRequirement already satisfied: matplotlib in /usr/local/lib/python3.10/dist-packages (3.7.1)\n",
            "Requirement already satisfied: numpy in /usr/local/lib/python3.10/dist-packages (1.25.2)\n",
            "Collecting affine (from rasterio)\n",
            "  Downloading affine-2.4.0-py3-none-any.whl (15 kB)\n",
            "Requirement already satisfied: attrs in /usr/local/lib/python3.10/dist-packages (from rasterio) (23.2.0)\n",
            "Requirement already satisfied: certifi in /usr/local/lib/python3.10/dist-packages (from rasterio) (2024.2.2)\n",
            "Requirement already satisfied: click>=4.0 in /usr/local/lib/python3.10/dist-packages (from rasterio) (8.1.7)\n",
            "Requirement already satisfied: cligj>=0.5 in /usr/local/lib/python3.10/dist-packages (from rasterio) (0.7.2)\n",
            "Collecting snuggs>=1.4.1 (from rasterio)\n",
            "  Downloading snuggs-1.4.7-py3-none-any.whl (5.4 kB)\n",
            "Requirement already satisfied: click-plugins in /usr/local/lib/python3.10/dist-packages (from rasterio) (1.1.1)\n",
            "Requirement already satisfied: setuptools in /usr/local/lib/python3.10/dist-packages (from rasterio) (67.7.2)\n",
            "Requirement already satisfied: contourpy>=1.0.1 in /usr/local/lib/python3.10/dist-packages (from matplotlib) (1.2.1)\n",
            "Requirement already satisfied: cycler>=0.10 in /usr/local/lib/python3.10/dist-packages (from matplotlib) (0.12.1)\n",
            "Requirement already satisfied: fonttools>=4.22.0 in /usr/local/lib/python3.10/dist-packages (from matplotlib) (4.51.0)\n",
            "Requirement already satisfied: kiwisolver>=1.0.1 in /usr/local/lib/python3.10/dist-packages (from matplotlib) (1.4.5)\n",
            "Requirement already satisfied: packaging>=20.0 in /usr/local/lib/python3.10/dist-packages (from matplotlib) (24.0)\n",
            "Requirement already satisfied: pillow>=6.2.0 in /usr/local/lib/python3.10/dist-packages (from matplotlib) (9.4.0)\n",
            "Requirement already satisfied: pyparsing>=2.3.1 in /usr/local/lib/python3.10/dist-packages (from matplotlib) (3.1.2)\n",
            "Requirement already satisfied: python-dateutil>=2.7 in /usr/local/lib/python3.10/dist-packages (from matplotlib) (2.8.2)\n",
            "Requirement already satisfied: six>=1.5 in /usr/local/lib/python3.10/dist-packages (from python-dateutil>=2.7->matplotlib) (1.16.0)\n",
            "Installing collected packages: snuggs, affine, rasterio\n",
            "Successfully installed affine-2.4.0 rasterio-1.3.10 snuggs-1.4.7\n"
          ]
        }
      ]
    },
    {
      "cell_type": "code",
      "source": [
        "import rasterio\n",
        "import matplotlib.pyplot as plt\n",
        "import numpy as np\n",
        "\n",
        "# Open the Sentinel image file\n",
        "sentinel_file = \"/content/Agri_ceg_2020-05-28.tif\"\n",
        "sentinel_data = rasterio.open(sentinel_file)\n",
        "\n",
        "# Read the image bands\n",
        "red = sentinel_data.read(4)\n",
        "green = sentinel_data.read(3)\n",
        "blue = sentinel_data.read(2)\n",
        "\n",
        "# Normalize bands to 0.0 - 1.0\n",
        "red = red / 65535.0\n",
        "green = green / 65535.0\n",
        "blue = blue / 65535.0\n",
        "\n",
        "# Stack bands to create RGB image\n",
        "rgb = np.dstack((red, green, blue))\n",
        "\n",
        "# Display the RGB image\n",
        "plt.imshow(rgb)\n",
        "plt.axis('off')  # Turn off axis\n",
        "plt.show()\n"
      ],
      "metadata": {
        "colab": {
          "base_uri": "https://localhost:8080/",
          "height": 406
        },
        "id": "PoYQa_U7rziM",
        "outputId": "833ae96d-2676-432b-9fee-8d77b2bc8a63"
      },
      "execution_count": 40,
      "outputs": [
        {
          "output_type": "display_data",
          "data": {
            "text/plain": [
              "<IPython.core.display.HTML object>"
            ],
            "text/html": [
              "\n",
              "            <style>\n",
              "                .geemap-dark {\n",
              "                    --jp-widgets-color: white;\n",
              "                    --jp-widgets-label-color: white;\n",
              "                    --jp-ui-font-color1: white;\n",
              "                    --jp-layout-color2: #454545;\n",
              "                    background-color: #383838;\n",
              "                }\n",
              "\n",
              "                .geemap-dark .jupyter-button {\n",
              "                    --jp-layout-color3: #383838;\n",
              "                }\n",
              "\n",
              "                .geemap-colab {\n",
              "                    background-color: var(--colab-primary-surface-color, white);\n",
              "                }\n",
              "\n",
              "                .geemap-colab .jupyter-button {\n",
              "                    --jp-layout-color3: var(--colab-primary-surface-color, white);\n",
              "                }\n",
              "            </style>\n",
              "            "
            ]
          },
          "metadata": {}
        },
        {
          "output_type": "display_data",
          "data": {
            "text/plain": [
              "<Figure size 640x480 with 1 Axes>"
            ],
            "image/png": "[encoded data removed]"
          },
          "metadata": {}
        }
      ]
    },
    {
      "cell_type": "code",
      "source": [
        "from skimage import exposure\n",
        "\n",
        "# Apply histogram equalization to each band\n",
        "red_eq = exposure.equalize_hist(red)\n",
        "green_eq = exposure.equalize_hist(green)\n",
        "blue_eq = exposure.equalize_hist(blue)\n",
        "\n",
        "# Stack bands\n",
        "rgb_eq = np.dstack((red_eq, green_eq, blue_eq))\n",
        "\n",
        "# Display the RGB image with equalization\n",
        "plt.imshow(rgb_eq)\n"
      ],
      "metadata": {
        "colab": {
          "base_uri": "https://localhost:8080/",
          "height": 447
        },
        "id": "4SMcBibBsFyg",
        "outputId": "d560c0fc-8efd-4156-9556-cc1e61ea7cb7"
      },
      "execution_count": 41,
      "outputs": [
        {
          "output_type": "display_data",
          "data": {
            "text/plain": [
              "<IPython.core.display.HTML object>"
            ],
            "text/html": [
              "\n",
              "            <style>\n",
              "                .geemap-dark {\n",
              "                    --jp-widgets-color: white;\n",
              "                    --jp-widgets-label-color: white;\n",
              "                    --jp-ui-font-color1: white;\n",
              "                    --jp-layout-color2: #454545;\n",
              "                    background-color: #383838;\n",
              "                }\n",
              "\n",
              "                .geemap-dark .jupyter-button {\n",
              "                    --jp-layout-color3: #383838;\n",
              "                }\n",
              "\n",
              "                .geemap-colab {\n",
              "                    background-color: var(--colab-primary-surface-color, white);\n",
              "                }\n",
              "\n",
              "                .geemap-colab .jupyter-button {\n",
              "                    --jp-layout-color3: var(--colab-primary-surface-color, white);\n",
              "                }\n",
              "            </style>\n",
              "            "
            ]
          },
          "metadata": {}
        },
        {
          "output_type": "execute_result",
          "data": {
            "text/plain": [
              "<matplotlib.image.AxesImage at 0x7c322f38d960>"
            ]
          },
          "metadata": {},
          "execution_count": 41
        },
        {
          "output_type": "display_data",
          "data": {
            "text/plain": [
              "<Figure size 640x480 with 1 Axes>"
            ],
            "image/png": "[encoded data removed]"
          },
          "metadata": {}
        }
      ]
    },
    {
      "cell_type": "code",
      "source": [
        "print(\"Red Band - Min:\", red.min(), \"Max:\", red.max())\n",
        "print(\"Green Band - Min:\", green.min(), \"Max:\", green.max())\n",
        "print(\"Blue Band - Min:\", blue.min(), \"Max:\", blue.max())\n"
      ],
      "metadata": {
        "colab": {
          "base_uri": "https://localhost:8080/",
          "height": 69
        },
        "id": "uXEXwoWssNsg",
        "outputId": "1250223a-e732-460f-fc52-1a44b0ad554c"
      },
      "execution_count": 44,
      "outputs": [
        {
          "output_type": "display_data",
          "data": {
            "text/plain": [
              "<IPython.core.display.HTML object>"
            ],
            "text/html": [
              "\n",
              "            <style>\n",
              "                .geemap-dark {\n",
              "                    --jp-widgets-color: white;\n",
              "                    --jp-widgets-label-color: white;\n",
              "                    --jp-ui-font-color1: white;\n",
              "                    --jp-layout-color2: #454545;\n",
              "                    background-color: #383838;\n",
              "                }\n",
              "\n",
              "                .geemap-dark .jupyter-button {\n",
              "                    --jp-layout-color3: #383838;\n",
              "                }\n",
              "\n",
              "                .geemap-colab {\n",
              "                    background-color: var(--colab-primary-surface-color, white);\n",
              "                }\n",
              "\n",
              "                .geemap-colab .jupyter-button {\n",
              "                    --jp-layout-color3: var(--colab-primary-surface-color, white);\n",
              "                }\n",
              "            </style>\n",
              "            "
            ]
          },
          "metadata": {}
        },
        {
          "output_type": "stream",
          "name": "stdout",
          "text": [
            "Red Band - Min: 0.0815 Max: 0.1531\n",
            "Green Band - Min: 0.1082 Max: 0.139\n",
            "Blue Band - Min: 0.018051422903791865 Max: 0.02153047989623865\n"
          ]
        }
      ]
    },
    {
      "cell_type": "code",
      "source": [],
      "metadata": {
        "id": "DnInwh7nsSMM"
      },
      "execution_count": null,
      "outputs": []
    }
  ]
}